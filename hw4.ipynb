{
  "nbformat": 4,
  "nbformat_minor": 0,
  "metadata": {
    "colab": {
      "provenance": []
    },
    "kernelspec": {
      "name": "python3",
      "display_name": "Python 3"
    },
    "language_info": {
      "name": "python"
    }
  },
  "cells": [
    {
      "cell_type": "code",
      "execution_count": 30,
      "metadata": {
        "id": "OjnrogBiSIIP"
      },
      "outputs": [],
      "source": [
        "import numpy as np\n",
        "import pandas as pd\n",
        "from datetime import date, timedelta\n",
        "import scipy.stats as sps\n",
        "import matplotlib.pyplot as plt\n",
        "import plotly.graph_objs as go\n",
        "import matplotlib.pyplot as plt\n",
        "import seaborn as sns\n",
        "sns.set()\n",
        "\n",
        "np.random.seed(1488)\n",
        "\n",
        "import warnings\n",
        "warnings.filterwarnings(\"ignore\")"
      ]
    },
    {
      "cell_type": "markdown",
      "source": [
        "# Общее описание задания"
      ],
      "metadata": {
        "id": "oqFygcVOSY0R"
      }
    },
    {
      "cell_type": "markdown",
      "source": [
        "В данном задании вам нужно будет провести анализ данных проведенного A/B-теста.\n",
        "\n",
        "Данные будут предоставлены в формате csv. Они будут содержать также часть пред экспериментального этапа.\n",
        "\n",
        "**Описание эксперимента:**  \n",
        "Есть мобильное приложение. В этом приложении у пользователей есть возможность покупать игровые предметы за реальные деньги. Чтобы стимулировать пользователей их покупать, приложение периодически предлагает пользователям товары - появляется окошко с рекомендацией купить товар. Отдел машинного обучения предложил улучшение для текущего алгоритма выбора рекомендации. Для проверки улучшений алгоритма был проведен A/B тест. Лог его проведения предоставлен в прикрепленном файле.\n",
        "\n",
        "**Метрика:**  \n",
        "средний доход от пользователя за 1 неделю после первого показа ему рекомендации на 10% (после начала A/B теста время первого показа ищется снова)\n",
        "\n",
        "**Важная информация:**  \n",
        "Эксперимент начинается 2023-05-01. Данные есть до 2023-06-01 (но можно завершить раньше, если это позволит оценка длительности)\n",
        "Вам сказали, что его длительность должна составить 1 месяц.\n",
        "Все покупки, которые вызваны не влиянием рекомендаций, в этом логе не учитываются\n",
        "\n",
        "**Описание данных:**  \n",
        "id_product -  идентификатор продукта, который был рекомендован  \n",
        "is_pay - купил ли пользователь товар  \n",
        "sum_payment - размер платежа (0, если не купил)  \n",
        "city - город, в котором находится пользователь  \n",
        "id_user - пользователь  \n",
        "timestamp - timestamp события  \n",
        "date - дата события  \n",
        "\n",
        "**Задачи, которые необходимо решить:**  \n",
        "1. Оценить длительность теста на момент его начала. Сравнить с предложенной. Для оценки необходимо использовать данные с пред экспериментального периода. Посмотреть, есть ли выбросы в данных.  \n",
        "2. Построить методику расчета целевой метрики. Рассчитать целевую метрику на день окончания теста (рассчитанной в п1) для группы A и B, рассчитать эффект, p_value. Посмотреть, есть ли выбросы в данных.  \n",
        "3. Рассчитать метрики из п2 по дням и построить их графики.\n",
        "Принять решение о результате теста - обосновать.  \n",
        "\n",
        "**Дополнительно:**  \n",
        "При подсчете метрик обработать выбросы в данных - описать почему их можно удалить из теста, если они удаляются. Пожалуйста, не заглядывайте в будущее по данным, если рассчитанная длительность меньше предоставленных данных."
      ],
      "metadata": {
        "id": "cEyeQ4qUSqvv"
      }
    },
    {
      "cell_type": "markdown",
      "source": [
        "# Загрузка и предобработка данных"
      ],
      "metadata": {
        "id": "STJ_ryR0S7Gp"
      }
    },
    {
      "cell_type": "code",
      "source": [
        "df = pd.read_csv(\"ab_made_4.gzip\", compression='gzip')\n",
        "df['timestamp'] = pd.to_datetime(df['timestamp'], unit='s') + timedelta(hours=3)\n",
        "df['date'] = pd.to_datetime(df['date'], format='%Y-%m-%d')\n",
        "\n",
        "df[\"group\"] = df[\"group\"].fillna(\"pre\")\n",
        "\n",
        "df[\"id_user\"] = df[\"id_user\"].apply(lambda x: x[5:])\n",
        "df[\"id_user\"] = df[\"id_user\"].astype(int)"
      ],
      "metadata": {
        "id": "dCsihGiaTQuu"
      },
      "execution_count": 6,
      "outputs": []
    },
    {
      "cell_type": "code",
      "source": [
        "df.head()"
      ],
      "metadata": {
        "colab": {
          "base_uri": "https://localhost:8080/",
          "height": 206
        },
        "id": "M0y-FOYMTg00",
        "outputId": "e5b27cf7-8c25-4150-dcb3-5705e1bfe0b8"
      },
      "execution_count": 7,
      "outputs": [
        {
          "output_type": "execute_result",
          "data": {
            "text/plain": [
              "            timestamp  id_user  sum_payment group             city  \\\n",
              "0 2023-04-01 09:29:33     9903           27   pre  Санкт-Петербург   \n",
              "1 2023-04-01 10:04:12     6732            0   pre           Рязань   \n",
              "2 2023-04-01 22:40:39     4199            0   pre           Москва   \n",
              "3 2023-04-01 11:26:20     3606           12   pre  Санкт-Петербург   \n",
              "4 2023-04-01 10:33:09     9519            0   pre  Санкт-Петербург   \n",
              "\n",
              "   id_product  is_pay       date  \n",
              "0         4.0       1 2023-04-01  \n",
              "1         1.0       0 2023-04-01  \n",
              "2         3.0       0 2023-04-01  \n",
              "3         7.0       1 2023-04-01  \n",
              "4        14.0       0 2023-04-01  "
            ],
            "text/html": [
              "\n",
              "  <div id=\"df-0864ca06-4cbc-4588-a31d-2cdb59613a49\">\n",
              "    <div class=\"colab-df-container\">\n",
              "      <div>\n",
              "<style scoped>\n",
              "    .dataframe tbody tr th:only-of-type {\n",
              "        vertical-align: middle;\n",
              "    }\n",
              "\n",
              "    .dataframe tbody tr th {\n",
              "        vertical-align: top;\n",
              "    }\n",
              "\n",
              "    .dataframe thead th {\n",
              "        text-align: right;\n",
              "    }\n",
              "</style>\n",
              "<table border=\"1\" class=\"dataframe\">\n",
              "  <thead>\n",
              "    <tr style=\"text-align: right;\">\n",
              "      <th></th>\n",
              "      <th>timestamp</th>\n",
              "      <th>id_user</th>\n",
              "      <th>sum_payment</th>\n",
              "      <th>group</th>\n",
              "      <th>city</th>\n",
              "      <th>id_product</th>\n",
              "      <th>is_pay</th>\n",
              "      <th>date</th>\n",
              "    </tr>\n",
              "  </thead>\n",
              "  <tbody>\n",
              "    <tr>\n",
              "      <th>0</th>\n",
              "      <td>2023-04-01 09:29:33</td>\n",
              "      <td>9903</td>\n",
              "      <td>27</td>\n",
              "      <td>pre</td>\n",
              "      <td>Санкт-Петербург</td>\n",
              "      <td>4.0</td>\n",
              "      <td>1</td>\n",
              "      <td>2023-04-01</td>\n",
              "    </tr>\n",
              "    <tr>\n",
              "      <th>1</th>\n",
              "      <td>2023-04-01 10:04:12</td>\n",
              "      <td>6732</td>\n",
              "      <td>0</td>\n",
              "      <td>pre</td>\n",
              "      <td>Рязань</td>\n",
              "      <td>1.0</td>\n",
              "      <td>0</td>\n",
              "      <td>2023-04-01</td>\n",
              "    </tr>\n",
              "    <tr>\n",
              "      <th>2</th>\n",
              "      <td>2023-04-01 22:40:39</td>\n",
              "      <td>4199</td>\n",
              "      <td>0</td>\n",
              "      <td>pre</td>\n",
              "      <td>Москва</td>\n",
              "      <td>3.0</td>\n",
              "      <td>0</td>\n",
              "      <td>2023-04-01</td>\n",
              "    </tr>\n",
              "    <tr>\n",
              "      <th>3</th>\n",
              "      <td>2023-04-01 11:26:20</td>\n",
              "      <td>3606</td>\n",
              "      <td>12</td>\n",
              "      <td>pre</td>\n",
              "      <td>Санкт-Петербург</td>\n",
              "      <td>7.0</td>\n",
              "      <td>1</td>\n",
              "      <td>2023-04-01</td>\n",
              "    </tr>\n",
              "    <tr>\n",
              "      <th>4</th>\n",
              "      <td>2023-04-01 10:33:09</td>\n",
              "      <td>9519</td>\n",
              "      <td>0</td>\n",
              "      <td>pre</td>\n",
              "      <td>Санкт-Петербург</td>\n",
              "      <td>14.0</td>\n",
              "      <td>0</td>\n",
              "      <td>2023-04-01</td>\n",
              "    </tr>\n",
              "  </tbody>\n",
              "</table>\n",
              "</div>\n",
              "      <button class=\"colab-df-convert\" onclick=\"convertToInteractive('df-0864ca06-4cbc-4588-a31d-2cdb59613a49')\"\n",
              "              title=\"Convert this dataframe to an interactive table.\"\n",
              "              style=\"display:none;\">\n",
              "        \n",
              "  <svg xmlns=\"http://www.w3.org/2000/svg\" height=\"24px\"viewBox=\"0 0 24 24\"\n",
              "       width=\"24px\">\n",
              "    <path d=\"M0 0h24v24H0V0z\" fill=\"none\"/>\n",
              "    <path d=\"M18.56 5.44l.94 2.06.94-2.06 2.06-.94-2.06-.94-.94-2.06-.94 2.06-2.06.94zm-11 1L8.5 8.5l.94-2.06 2.06-.94-2.06-.94L8.5 2.5l-.94 2.06-2.06.94zm10 10l.94 2.06.94-2.06 2.06-.94-2.06-.94-.94-2.06-.94 2.06-2.06.94z\"/><path d=\"M17.41 7.96l-1.37-1.37c-.4-.4-.92-.59-1.43-.59-.52 0-1.04.2-1.43.59L10.3 9.45l-7.72 7.72c-.78.78-.78 2.05 0 2.83L4 21.41c.39.39.9.59 1.41.59.51 0 1.02-.2 1.41-.59l7.78-7.78 2.81-2.81c.8-.78.8-2.07 0-2.86zM5.41 20L4 18.59l7.72-7.72 1.47 1.35L5.41 20z\"/>\n",
              "  </svg>\n",
              "      </button>\n",
              "      \n",
              "  <style>\n",
              "    .colab-df-container {\n",
              "      display:flex;\n",
              "      flex-wrap:wrap;\n",
              "      gap: 12px;\n",
              "    }\n",
              "\n",
              "    .colab-df-convert {\n",
              "      background-color: #E8F0FE;\n",
              "      border: none;\n",
              "      border-radius: 50%;\n",
              "      cursor: pointer;\n",
              "      display: none;\n",
              "      fill: #1967D2;\n",
              "      height: 32px;\n",
              "      padding: 0 0 0 0;\n",
              "      width: 32px;\n",
              "    }\n",
              "\n",
              "    .colab-df-convert:hover {\n",
              "      background-color: #E2EBFA;\n",
              "      box-shadow: 0px 1px 2px rgba(60, 64, 67, 0.3), 0px 1px 3px 1px rgba(60, 64, 67, 0.15);\n",
              "      fill: #174EA6;\n",
              "    }\n",
              "\n",
              "    [theme=dark] .colab-df-convert {\n",
              "      background-color: #3B4455;\n",
              "      fill: #D2E3FC;\n",
              "    }\n",
              "\n",
              "    [theme=dark] .colab-df-convert:hover {\n",
              "      background-color: #434B5C;\n",
              "      box-shadow: 0px 1px 3px 1px rgba(0, 0, 0, 0.15);\n",
              "      filter: drop-shadow(0px 1px 2px rgba(0, 0, 0, 0.3));\n",
              "      fill: #FFFFFF;\n",
              "    }\n",
              "  </style>\n",
              "\n",
              "      <script>\n",
              "        const buttonEl =\n",
              "          document.querySelector('#df-0864ca06-4cbc-4588-a31d-2cdb59613a49 button.colab-df-convert');\n",
              "        buttonEl.style.display =\n",
              "          google.colab.kernel.accessAllowed ? 'block' : 'none';\n",
              "\n",
              "        async function convertToInteractive(key) {\n",
              "          const element = document.querySelector('#df-0864ca06-4cbc-4588-a31d-2cdb59613a49');\n",
              "          const dataTable =\n",
              "            await google.colab.kernel.invokeFunction('convertToInteractive',\n",
              "                                                     [key], {});\n",
              "          if (!dataTable) return;\n",
              "\n",
              "          const docLinkHtml = 'Like what you see? Visit the ' +\n",
              "            '<a target=\"_blank\" href=https://colab.research.google.com/notebooks/data_table.ipynb>data table notebook</a>'\n",
              "            + ' to learn more about interactive tables.';\n",
              "          element.innerHTML = '';\n",
              "          dataTable['output_type'] = 'display_data';\n",
              "          await google.colab.output.renderOutput(dataTable, element);\n",
              "          const docLink = document.createElement('div');\n",
              "          docLink.innerHTML = docLinkHtml;\n",
              "          element.appendChild(docLink);\n",
              "        }\n",
              "      </script>\n",
              "    </div>\n",
              "  </div>\n",
              "  "
            ]
          },
          "metadata": {},
          "execution_count": 7
        }
      ]
    },
    {
      "cell_type": "markdown",
      "source": [
        "# Задача 1: Длительность теста"
      ],
      "metadata": {
        "id": "Eg26gphFThzO"
      }
    },
    {
      "cell_type": "markdown",
      "source": [
        "**Посмотреть, есть ли выбросы в данных.**"
      ],
      "metadata": {
        "id": "m9QjqMsNejC0"
      }
    },
    {
      "cell_type": "code",
      "source": [
        "sns.boxplot(df[df.group == \"pre\"].sum_payment);"
      ],
      "metadata": {
        "colab": {
          "base_uri": "https://localhost:8080/",
          "height": 434
        },
        "id": "zF7MtD-Jekmt",
        "outputId": "dcc112bc-68f2-4133-fb2a-f82db366068d"
      },
      "execution_count": 36,
      "outputs": [
        {
          "output_type": "display_data",
          "data": {
            "text/plain": [
              "<Figure size 640x480 with 1 Axes>"
            ],
            "image/png": "[encoded data removed]"
          },
          "metadata": {}
        }
      ]
    },
    {
      "cell_type": "code",
      "source": [
        "threshold = 0.01\n",
        "lower_bound = df[df.group == \"pre\"].sum_payment.quantile(q=threshold)\n",
        "upper_bound = df[df.group == \"pre\"].sum_payment.quantile(q=1-threshold)\n",
        "lower_bound, upper_bound"
      ],
      "metadata": {
        "colab": {
          "base_uri": "https://localhost:8080/"
        },
        "id": "Di6o0Oz9gI5k",
        "outputId": "1463437a-d2cf-4bfa-e1eb-35a301944b8f"
      },
      "execution_count": 50,
      "outputs": [
        {
          "output_type": "execute_result",
          "data": {
            "text/plain": [
              "(0.0, 37.0)"
            ]
          },
          "metadata": {},
          "execution_count": 50
        }
      ]
    },
    {
      "cell_type": "code",
      "source": [
        "df.loc[df[(df.group == \"pre\") & (df.sum_payment < lower_bound)].index, \"sum_payment\"] = lower_bound\n",
        "df.loc[df[(df.group == \"pre\") & (df.sum_payment > upper_bound)].index, \"sum_payment\"] = upper_bound"
      ],
      "metadata": {
        "id": "Mj_wdQxIgUlJ"
      },
      "execution_count": 58,
      "outputs": []
    },
    {
      "cell_type": "code",
      "source": [
        "sns.boxplot(df[df.group == \"pre\"].sum_payment);"
      ],
      "metadata": {
        "colab": {
          "base_uri": "https://localhost:8080/",
          "height": 434
        },
        "id": "V2PUkKulhQpY",
        "outputId": "1920d003-e384-4043-cc6a-aee159083512"
      },
      "execution_count": 69,
      "outputs": [
        {
          "output_type": "display_data",
          "data": {
            "text/plain": [
              "<Figure size 640x480 with 1 Axes>"
            ],
            "image/png": "[encoded data removed]"
          },
          "metadata": {}
        }
      ]
    },
    {
      "cell_type": "code",
      "source": [
        "def duration(k, delta_effect, sigma_1, sigma_2, alpha=0.05, beta=0.2):\n",
        "    z = sps.norm.ppf(1 - alpha/2) + sps.norm.ppf(1-beta)\n",
        "    n = (k+1) * z ** 2 * (sigma_1 ** 2 + sigma_2 **2 / k) / (delta_effect ** 2)\n",
        "    return n"
      ],
      "metadata": {
        "id": "Db-AjW8OUsf9"
      },
      "execution_count": 70,
      "outputs": []
    },
    {
      "cell_type": "code",
      "source": [
        "def compute_metric(df, ending, exp=False):\n",
        "    filter_df = df.groupby('id_user').timestamp.min().reset_index(name='min_timestamp')\n",
        "    filter_df['max_timestamp'] = filter_df['min_timestamp'] + timedelta(seconds=7 * 24 * 60 * 60)\n",
        "    df2 = df.merge(filter_df, on='id_user')\n",
        "    df2 = df2[(df2['timestamp'] <= df2['max_timestamp']) & (df2['timestamp'] >= df2['min_timestamp'])]\n",
        "    df2 = df2[pd.to_datetime(df2['max_timestamp']).dt.normalize() <= ending]\n",
        "    return df2.groupby('id_user').sum_payment.sum().tolist()"
      ],
      "metadata": {
        "id": "PSuDVPMnUzTm"
      },
      "execution_count": 71,
      "outputs": []
    },
    {
      "cell_type": "markdown",
      "source": [
        "**Оценить длительность теста на момент его начала. Для оценки необходимо использовать данные с пред экспериментального периода.**"
      ],
      "metadata": {
        "id": "OtVOnWYLXqLi"
      }
    },
    {
      "cell_type": "code",
      "source": [
        "metric_vals = compute_metric(df[df.group == \"pre\"], df[df.group == \"pre\"].timestamp.max())\n",
        "sigma_1 = np.std(metric_vals)\n",
        "sigma_2 = sigma_1\n",
        "effect = 0.1 * np.mean(metric_vals)\n",
        "k = df[df.group == \"A\"].id_user.nunique() / df[df.group == \"B\"].id_user.nunique()\n",
        "\n",
        "test_duration = int(duration(1, effect, sigma_1, sigma_2, alpha=0.05, beta=0.2)/2)\n",
        "print(f\"Размер выборки {test_duration} пользователей\")"
      ],
      "metadata": {
        "colab": {
          "base_uri": "https://localhost:8080/"
        },
        "id": "k8Boo0tUWbyh",
        "outputId": "b826afc7-e132-4152-e87b-bcf978411ad3"
      },
      "execution_count": 72,
      "outputs": [
        {
          "output_type": "stream",
          "name": "stdout",
          "text": [
            "Размер выборки 3570 пользователей\n"
          ]
        }
      ]
    },
    {
      "cell_type": "code",
      "source": [
        "def df_filter(df, exp_start, exp_end, duration):\n",
        "    date = exp_start + timedelta(days=7)\n",
        "    while True:\n",
        "        if date == exp_end:\n",
        "            return date\n",
        "        tmp_df = df[df['date'] <= date]\n",
        "        filtered_df = tmp_df.groupby('id_user').timestamp.min().reset_index(name='min_timestamp')\n",
        "        filtered_df['max_timestamp'] = filtered_df['min_timestamp'] + timedelta(seconds=7 * 24 * 60 * 60)\n",
        "        filtered_df = filtered_df[pd.to_datetime(filtered_df['max_timestamp']).dt.normalize() <= date]\n",
        "        if filtered_df.id_user.nunique() >= duration:\n",
        "            return date\n",
        "        date = date + timedelta(days=1)"
      ],
      "metadata": {
        "id": "rLlCgqPRqUQu"
      },
      "execution_count": 73,
      "outputs": []
    },
    {
      "cell_type": "code",
      "source": [
        "exp_start = pd.to_datetime('2023-05-01', format='%Y-%m-%d')\n",
        "exp_end = pd.to_datetime('2023-05-31', format='%Y-%m-%d')\n",
        "\n",
        "a_group_date = df_filter(df[df.group == \"A\"], exp_start, exp_end, test_duration)\n",
        "b_group_date = df_filter(df[df.group == \"B\"], exp_start, exp_end, test_duration)\n",
        "exp_end = max(a_group_date, b_group_date)"
      ],
      "metadata": {
        "id": "PqUkTQhPrP76"
      },
      "execution_count": 74,
      "outputs": []
    },
    {
      "cell_type": "code",
      "source": [
        "print(f\"Дата окончания: {exp_end.date()}\")"
      ],
      "metadata": {
        "colab": {
          "base_uri": "https://localhost:8080/"
        },
        "id": "B2h2Cvd0ry__",
        "outputId": "ab861c8d-62a4-44d8-8026-f2955f4bd3f8"
      },
      "execution_count": 77,
      "outputs": [
        {
          "output_type": "stream",
          "name": "stdout",
          "text": [
            "Дата окончания: 2023-05-31\n"
          ]
        }
      ]
    },
    {
      "cell_type": "markdown",
      "source": [
        "# Задача 2: Целевая метрика"
      ],
      "metadata": {
        "id": "g8WBhq5Xb1tP"
      }
    },
    {
      "cell_type": "markdown",
      "source": [
        "**Посмотреть, есть ли выбросы в данных.**"
      ],
      "metadata": {
        "id": "Un27-AwZi5Ed"
      }
    },
    {
      "cell_type": "code",
      "source": [
        "a_group_df = df[(df.group == \"A\") & (df.date <= exp_end)]\n",
        "b_group_df = df[(df.group == \"B\") & (df.date <= exp_end)]"
      ],
      "metadata": {
        "id": "qFHuGEwYsKku"
      },
      "execution_count": 78,
      "outputs": []
    },
    {
      "cell_type": "code",
      "source": [
        "sns.boxplot(a_group_df.sum_payment.values);"
      ],
      "metadata": {
        "colab": {
          "base_uri": "https://localhost:8080/",
          "height": 434
        },
        "id": "gVZEcJOEsts2",
        "outputId": "5d9d04e3-a293-44b5-c4e9-f8291def2e96"
      },
      "execution_count": 93,
      "outputs": [
        {
          "output_type": "display_data",
          "data": {
            "text/plain": [
              "<Figure size 640x480 with 1 Axes>"
            ],
            "image/png": "[encoded data removed]"
          },
          "metadata": {}
        }
      ]
    },
    {
      "cell_type": "code",
      "source": [
        "lower_bound = a_group_df.sum_payment.quantile(q=threshold)\n",
        "upper_bound = a_group_df.sum_payment.quantile(q=1-threshold)\n",
        "lower_bound, upper_bound"
      ],
      "metadata": {
        "colab": {
          "base_uri": "https://localhost:8080/"
        },
        "id": "_ie1Q_FWtRV9",
        "outputId": "ca7e4c83-b2f6-499c-e876-1f63045a033b"
      },
      "execution_count": 95,
      "outputs": [
        {
          "output_type": "execute_result",
          "data": {
            "text/plain": [
              "(0.0, 37.0)"
            ]
          },
          "metadata": {},
          "execution_count": 95
        }
      ]
    },
    {
      "cell_type": "code",
      "source": [
        "a_group_df.loc[a_group_df[(a_group_df.sum_payment < lower_bound)].index, \"sum_payment\"] = lower_bound\n",
        "a_group_df.loc[a_group_df[(a_group_df.sum_payment > upper_bound)].index, \"sum_payment\"] = upper_bound"
      ],
      "metadata": {
        "id": "-2hrarkRtXRG"
      },
      "execution_count": 96,
      "outputs": []
    },
    {
      "cell_type": "code",
      "source": [
        "sns.boxplot(a_group_df.sum_payment.values);"
      ],
      "metadata": {
        "colab": {
          "base_uri": "https://localhost:8080/",
          "height": 434
        },
        "id": "aqvWk2DPtvUt",
        "outputId": "20fe0b91-6956-4e52-8bff-c2b8b0b15408"
      },
      "execution_count": 97,
      "outputs": [
        {
          "output_type": "display_data",
          "data": {
            "text/plain": [
              "<Figure size 640x480 with 1 Axes>"
            ],
            "image/png": "[encoded data removed]"
          },
          "metadata": {}
        }
      ]
    },
    {
      "cell_type": "code",
      "source": [
        "sns.boxplot(b_group_df.sum_payment.values);"
      ],
      "metadata": {
        "colab": {
          "base_uri": "https://localhost:8080/",
          "height": 434
        },
        "id": "iAwFiL6TscyN",
        "outputId": "83d9d3eb-8f15-44ed-b4df-3558b6db35ab"
      },
      "execution_count": 98,
      "outputs": [
        {
          "output_type": "display_data",
          "data": {
            "text/plain": [
              "<Figure size 640x480 with 1 Axes>"
            ],
            "image/png": "[encoded data removed]"
          },
          "metadata": {}
        }
      ]
    },
    {
      "cell_type": "code",
      "source": [
        "lower_bound = b_group_df.sum_payment.quantile(q=threshold)\n",
        "upper_bound = b_group_df.sum_payment.quantile(q=1-threshold)\n",
        "lower_bound, upper_bound"
      ],
      "metadata": {
        "colab": {
          "base_uri": "https://localhost:8080/"
        },
        "id": "hTvkrIocsXjX",
        "outputId": "f070d0ea-2160-4b8d-b7f0-8e117a1fd255"
      },
      "execution_count": 99,
      "outputs": [
        {
          "output_type": "execute_result",
          "data": {
            "text/plain": [
              "(0.0, 37.0)"
            ]
          },
          "metadata": {},
          "execution_count": 99
        }
      ]
    },
    {
      "cell_type": "code",
      "source": [
        "b_group_df.loc[b_group_df[(b_group_df.sum_payment < lower_bound)].index, \"sum_payment\"] = lower_bound\n",
        "b_group_df.loc[b_group_df[(b_group_df.sum_payment > upper_bound)].index, \"sum_payment\"] = upper_bound"
      ],
      "metadata": {
        "id": "_RHv1zkDi8PT"
      },
      "execution_count": 100,
      "outputs": []
    },
    {
      "cell_type": "code",
      "source": [
        "sns.boxplot(b_group_df.sum_payment.values);"
      ],
      "metadata": {
        "colab": {
          "base_uri": "https://localhost:8080/",
          "height": 434
        },
        "id": "8wnmEtaUuBEG",
        "outputId": "60af718f-d36f-48e4-b7e3-a7574ba13a3c"
      },
      "execution_count": 101,
      "outputs": [
        {
          "output_type": "display_data",
          "data": {
            "text/plain": [
              "<Figure size 640x480 with 1 Axes>"
            ],
            "image/png": "[encoded data removed]"
          },
          "metadata": {}
        }
      ]
    },
    {
      "cell_type": "markdown",
      "source": [
        "**Рассчитать целевую метрику на день окончания.**"
      ],
      "metadata": {
        "id": "sqj8qRtOuXYA"
      }
    },
    {
      "cell_type": "code",
      "source": [
        "def compute_dynamic_metric(a_df, b_df, exp_start, exp_end):\n",
        "    result_df = pd.DataFrame(\n",
        "        [],\n",
        "        columns=[\"metric_a\", \"metric_b\", \"effect\", \"t\", \"p_value\"],\n",
        "        index=pd.date_range(exp_start + timedelta(days=7), exp_end),\n",
        "    )\n",
        "    for date in result_df.index:\n",
        "        tmp_a = compute_metric(a_df[a_df[\"date\"] <= date], ending=date, exp=True)\n",
        "        tmp_b = compute_metric(b_df[b_df[\"date\"] <= date], ending=date, exp=True)\n",
        "        effect = np.mean(tmp_b) - np.mean(tmp_a)\n",
        "        results = sps.ttest_ind(tmp_a, tmp_b, equal_var=abs(np.var(tmp_b) - np.var(tmp_a)) <= 0.1)\n",
        "        t, p_value = results.statistic, results.pvalue\n",
        "        result_df.loc[date] = np.mean(tmp_a), np.mean(tmp_b), effect, t, p_value\n",
        "    return result_df"
      ],
      "metadata": {
        "id": "vSporqCkuDRZ"
      },
      "execution_count": 102,
      "outputs": []
    },
    {
      "cell_type": "code",
      "source": [
        "result_df = compute_dynamic_metric(a_group_df, b_group_df, exp_start, exp_end)\n",
        "result_df.tail(1)"
      ],
      "metadata": {
        "colab": {
          "base_uri": "https://localhost:8080/",
          "height": 81
        },
        "id": "8wluvH6cvYQc",
        "outputId": "7c3de753-8af7-4edc-ec9b-b6173f4561c9"
      },
      "execution_count": 104,
      "outputs": [
        {
          "output_type": "execute_result",
          "data": {
            "text/plain": [
              "             metric_a  metric_b    effect         t   p_value\n",
              "2023-05-31  11.281241  12.69074  1.409499 -3.368989  0.000759"
            ],
            "text/html": [
              "\n",
              "  <div id=\"df-d012b7f9-4316-4b90-aa66-b9fe19c36e83\">\n",
              "    <div class=\"colab-df-container\">\n",
              "      <div>\n",
              "<style scoped>\n",
              "    .dataframe tbody tr th:only-of-type {\n",
              "        vertical-align: middle;\n",
              "    }\n",
              "\n",
              "    .dataframe tbody tr th {\n",
              "        vertical-align: top;\n",
              "    }\n",
              "\n",
              "    .dataframe thead th {\n",
              "        text-align: right;\n",
              "    }\n",
              "</style>\n",
              "<table border=\"1\" class=\"dataframe\">\n",
              "  <thead>\n",
              "    <tr style=\"text-align: right;\">\n",
              "      <th></th>\n",
              "      <th>metric_a</th>\n",
              "      <th>metric_b</th>\n",
              "      <th>effect</th>\n",
              "      <th>t</th>\n",
              "      <th>p_value</th>\n",
              "    </tr>\n",
              "  </thead>\n",
              "  <tbody>\n",
              "    <tr>\n",
              "      <th>2023-05-31</th>\n",
              "      <td>11.281241</td>\n",
              "      <td>12.69074</td>\n",
              "      <td>1.409499</td>\n",
              "      <td>-3.368989</td>\n",
              "      <td>0.000759</td>\n",
              "    </tr>\n",
              "  </tbody>\n",
              "</table>\n",
              "</div>\n",
              "      <button class=\"colab-df-convert\" onclick=\"convertToInteractive('df-d012b7f9-4316-4b90-aa66-b9fe19c36e83')\"\n",
              "              title=\"Convert this dataframe to an interactive table.\"\n",
              "              style=\"display:none;\">\n",
              "        \n",
              "  <svg xmlns=\"http://www.w3.org/2000/svg\" height=\"24px\"viewBox=\"0 0 24 24\"\n",
              "       width=\"24px\">\n",
              "    <path d=\"M0 0h24v24H0V0z\" fill=\"none\"/>\n",
              "    <path d=\"M18.56 5.44l.94 2.06.94-2.06 2.06-.94-2.06-.94-.94-2.06-.94 2.06-2.06.94zm-11 1L8.5 8.5l.94-2.06 2.06-.94-2.06-.94L8.5 2.5l-.94 2.06-2.06.94zm10 10l.94 2.06.94-2.06 2.06-.94-2.06-.94-.94-2.06-.94 2.06-2.06.94z\"/><path d=\"M17.41 7.96l-1.37-1.37c-.4-.4-.92-.59-1.43-.59-.52 0-1.04.2-1.43.59L10.3 9.45l-7.72 7.72c-.78.78-.78 2.05 0 2.83L4 21.41c.39.39.9.59 1.41.59.51 0 1.02-.2 1.41-.59l7.78-7.78 2.81-2.81c.8-.78.8-2.07 0-2.86zM5.41 20L4 18.59l7.72-7.72 1.47 1.35L5.41 20z\"/>\n",
              "  </svg>\n",
              "      </button>\n",
              "      \n",
              "  <style>\n",
              "    .colab-df-container {\n",
              "      display:flex;\n",
              "      flex-wrap:wrap;\n",
              "      gap: 12px;\n",
              "    }\n",
              "\n",
              "    .colab-df-convert {\n",
              "      background-color: #E8F0FE;\n",
              "      border: none;\n",
              "      border-radius: 50%;\n",
              "      cursor: pointer;\n",
              "      display: none;\n",
              "      fill: #1967D2;\n",
              "      height: 32px;\n",
              "      padding: 0 0 0 0;\n",
              "      width: 32px;\n",
              "    }\n",
              "\n",
              "    .colab-df-convert:hover {\n",
              "      background-color: #E2EBFA;\n",
              "      box-shadow: 0px 1px 2px rgba(60, 64, 67, 0.3), 0px 1px 3px 1px rgba(60, 64, 67, 0.15);\n",
              "      fill: #174EA6;\n",
              "    }\n",
              "\n",
              "    [theme=dark] .colab-df-convert {\n",
              "      background-color: #3B4455;\n",
              "      fill: #D2E3FC;\n",
              "    }\n",
              "\n",
              "    [theme=dark] .colab-df-convert:hover {\n",
              "      background-color: #434B5C;\n",
              "      box-shadow: 0px 1px 3px 1px rgba(0, 0, 0, 0.15);\n",
              "      filter: drop-shadow(0px 1px 2px rgba(0, 0, 0, 0.3));\n",
              "      fill: #FFFFFF;\n",
              "    }\n",
              "  </style>\n",
              "\n",
              "      <script>\n",
              "        const buttonEl =\n",
              "          document.querySelector('#df-d012b7f9-4316-4b90-aa66-b9fe19c36e83 button.colab-df-convert');\n",
              "        buttonEl.style.display =\n",
              "          google.colab.kernel.accessAllowed ? 'block' : 'none';\n",
              "\n",
              "        async function convertToInteractive(key) {\n",
              "          const element = document.querySelector('#df-d012b7f9-4316-4b90-aa66-b9fe19c36e83');\n",
              "          const dataTable =\n",
              "            await google.colab.kernel.invokeFunction('convertToInteractive',\n",
              "                                                     [key], {});\n",
              "          if (!dataTable) return;\n",
              "\n",
              "          const docLinkHtml = 'Like what you see? Visit the ' +\n",
              "            '<a target=\"_blank\" href=https://colab.research.google.com/notebooks/data_table.ipynb>data table notebook</a>'\n",
              "            + ' to learn more about interactive tables.';\n",
              "          element.innerHTML = '';\n",
              "          dataTable['output_type'] = 'display_data';\n",
              "          await google.colab.output.renderOutput(dataTable, element);\n",
              "          const docLink = document.createElement('div');\n",
              "          docLink.innerHTML = docLinkHtml;\n",
              "          element.appendChild(docLink);\n",
              "        }\n",
              "      </script>\n",
              "    </div>\n",
              "  </div>\n",
              "  "
            ]
          },
          "metadata": {},
          "execution_count": 104
        }
      ]
    },
    {
      "cell_type": "code",
      "source": [
        "result_df.plot(y='p_value', grid=True, yticks=np.arange(0, 1, 0.05))\n",
        "plt.plot(result_df.index, [0.05] * len(result_df.index), color='red')\n",
        "plt.show()"
      ],
      "metadata": {
        "colab": {
          "base_uri": "https://localhost:8080/",
          "height": 469
        },
        "id": "BgfTtLa6vjfx",
        "outputId": "d8f6f77c-9261-465d-9a3f-2fa732d81bfb"
      },
      "execution_count": 106,
      "outputs": [
        {
          "output_type": "display_data",
          "data": {
            "text/plain": [
              "<Figure size 640x480 with 1 Axes>"
            ],
            "image/png": "[encoded data removed]"
          },
          "metadata": {}
        }
      ]
    },
    {
      "cell_type": "markdown",
      "source": [
        "**Как видно по таблице, группа B выигрывает**,  \n",
        "`p-value: 0.000759 < 0.05`"
      ],
      "metadata": {
        "id": "QwFEB92qwtl6"
      }
    },
    {
      "cell_type": "code",
      "source": [],
      "metadata": {
        "id": "Bwep46DFx2IV"
      },
      "execution_count": null,
      "outputs": []
    }
  ]
}