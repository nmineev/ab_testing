{
  "nbformat": 4,
  "nbformat_minor": 0,
  "metadata": {
    "colab": {
      "provenance": []
    },
    "kernelspec": {
      "name": "python3",
      "display_name": "Python 3"
    },
    "language_info": {
      "name": "python"
    }
  },
  "cells": [
    {
      "cell_type": "code",
      "execution_count": 23,
      "metadata": {
        "id": "faQnsxuC025j"
      },
      "outputs": [],
      "source": [
        "import numpy as np\n",
        "import pandas as pd\n",
        "import scipy.stats as sps\n",
        "import plotly.graph_objs as go\n",
        "import seaborn as sns\n",
        "from matplotlib import pyplot as plt\n",
        "from scipy.stats import t\n",
        "from scipy.stats import ttest_ind, mannwhitneyu\n",
        "from scipy.stats import norm, expon\n",
        "\n",
        "np.random.seed(1488)\n",
        "\n",
        "import warnings\n",
        "warnings.filterwarnings(\"ignore\")"
      ]
    },
    {
      "cell_type": "markdown",
      "source": [
        "# Задание 1: t-критерий Стьюдента"
      ],
      "metadata": {
        "id": "8YAeVJWm4l74"
      }
    },
    {
      "cell_type": "markdown",
      "source": [
        "**Реализовать t-критерий Стьюдента для 2 независимых выборок при условии неизвестной дисперсии.**"
      ],
      "metadata": {
        "id": "IDVXbsCR7hE0"
      }
    },
    {
      "cell_type": "code",
      "source": [
        "true_mean1, true_mean2, true_mean3 = 0, 0, 10\n",
        "std = 1\n",
        "size = 1000\n",
        "dof = size * 2 - 2\n",
        "\n",
        "sample1 = sps.norm.rvs(loc=true_mean1, scale=std, size=size)\n",
        "sample2 = sps.norm.rvs(loc=true_mean2, scale=std, size=size)\n",
        "sample3 = sps.norm.rvs(loc=true_mean3, scale=std, size=size)\n",
        "\n",
        "sample_mean1 = sample1.mean()\n",
        "sample_mean2 = sample2.mean()\n",
        "sample_mean3 = sample3.mean()\n",
        "\n",
        "\n",
        "sample_var1 = sample1.var(ddof=1)\n",
        "sample_var2 = sample2.var(ddof=1)\n",
        "sample_var3 = sample3.var(ddof=1)\n",
        "\n",
        "sp = np.sqrt(((size - 1) * sample_var1 + (size - 1) * sample_var2) / dof)\n",
        "t_stat12 = (sample_mean1 - sample_mean2) / (sp * np.sqrt(2 / size))\n",
        "sp = np.sqrt(((size - 1) * sample_var1 + (size - 1) * sample_var3) / dof)\n",
        "t_stat13 = (sample_mean1 - sample_mean3) / (sp * np.sqrt(2 / size))\n",
        "\n",
        "p_value12_two_sided = 2 * (1 - t.cdf(np.abs(t_stat12), dof))\n",
        "p_value12_less = t.cdf(t_stat12, dof)\n",
        "p_value12_greater = 1 - t.cdf(t_stat12, dof)\n",
        "\n",
        "p_value13_two_sided = 2 * (1 - t.cdf(np.abs(t_stat13), dof))\n",
        "p_value13_less = t.cdf(t_stat13, dof)\n",
        "p_value13_greater = 1 - t.cdf(t_stat13, dof)\n",
        "\n",
        "alpha = 0.05\n",
        "\n",
        "t_stat12_scipy, p_value12_two_sided_scipy = ttest_ind(sample1, sample2, alternative=\"two-sided\")\n",
        "t_stat12_scipy, p_value12_less_scipy = ttest_ind(sample1, sample2, alternative=\"less\")\n",
        "t_stat12_scipy, p_value12_greater_scipy = ttest_ind(sample1, sample2, alternative=\"greater\")\n",
        "\n",
        "t_stat13_scipy, p_value13_two_sided_scipy = ttest_ind(sample1, sample3, alternative=\"two-sided\")\n",
        "t_stat13_scipy, p_value13_less_scipy = ttest_ind(sample1, sample3, alternative=\"less\")\n",
        "t_stat13_scipy, p_value13_greater_scipy = ttest_ind(sample1, sample3, alternative=\"greater\")"
      ],
      "metadata": {
        "id": "T1QrhEoS7yBt"
      },
      "execution_count": 3,
      "outputs": []
    },
    {
      "cell_type": "markdown",
      "source": [
        "**Необходимо считать значение статистики и p_value для разных видов гипотез (двусторонняя, односторонние), а также результат (отвергается нулевая гипотеза или нет). Сравнить результаты с реализацией в scipy.stats.ttest_ind.**"
      ],
      "metadata": {
        "id": "7w24Phxh9j0I"
      }
    },
    {
      "cell_type": "code",
      "source": [
        "print(f\"\"\"\n",
        "=================================================================\n",
        "True mean first: {true_mean1}\n",
        "True mean second: {true_mean2}\n",
        "\n",
        "Sample mean first: {sample_mean1:.4f}\n",
        "Sample mean second: {sample_mean2:.4f}\n",
        "\n",
        "t_stat: {t_stat12:.4f}\n",
        "t_stat_scipy: {t_stat12_scipy:.4f}\n",
        "-----------------------------------------------------------------\n",
        "H0: Mean first == Mean second\n",
        "H1(two-sided): Mean first != Mean second\n",
        "\n",
        "p_value: {p_value12_two_sided:.4f}\n",
        "p_value_scipy: {p_value12_two_sided_scipy:.4f}\n",
        "alpha: {alpha}\n",
        "\n",
        "Own: {\"H0 rejected\" if p_value12_two_sided < alpha else \"H0 accepted\"}\n",
        "Scipy: {\"H0 rejected\" if p_value12_two_sided_scipy < alpha else \"H0 accepted\"}\n",
        "-----------------------------------------------------------------\n",
        "H0: Mean first == Mean second\n",
        "H1(less): Mean first < Mean second\n",
        "\n",
        "p_value: {p_value12_less:.4f}\n",
        "p_value_scipy: {p_value12_less_scipy:.4f}\n",
        "alpha: {alpha}\n",
        "\n",
        "Own: {\"H0 rejected\" if p_value12_less < alpha else \"H0 not rejected\"}\n",
        "Scipy: {\"H0 rejected\" if p_value12_less < alpha else \"H0 not rejected\"}\n",
        "-----------------------------------------------------------------\n",
        "H0: Mean first == Mean second\n",
        "H1(greater): Mean first > Mean second\n",
        "\n",
        "p_value: {p_value12_greater:.4f}\n",
        "p_value_scipy: {p_value12_greater_scipy:.4f}\n",
        "alpha: {alpha}\n",
        "\n",
        "Own: {\"H0 rejected\" if p_value12_greater < alpha else \"H0 not rejected\"}\n",
        "Scipy: {\"H0 rejected\" if p_value12_greater_scipy < alpha else \"H0 not rejected\"}\n",
        "=================================================================\n",
        "True mean first: {true_mean1}\n",
        "True mean second: {true_mean3}\n",
        "\n",
        "Sample mean first: {sample_mean1:.4f}\n",
        "Sample mean second: {sample_mean3:.4f}\n",
        "\n",
        "t_stat: {t_stat13:.4f}\n",
        "t_stat_scipy: {t_stat13_scipy:.4f}\n",
        "-----------------------------------------------------------------\n",
        "H0: Mean first == Mean second\n",
        "H1(two-sided): Mean first != Mean second\n",
        "\n",
        "p_value: {p_value13_two_sided:.4f}\n",
        "p_value_scipy: {p_value13_two_sided_scipy:.4f}\n",
        "alpha: {alpha}\n",
        "\n",
        "Own: {\"H0 rejected\" if p_value13_two_sided < alpha else \"H0 accepted\"}\n",
        "Scipy: {\"H0 rejected\" if p_value13_two_sided_scipy < alpha else \"H0 accepted\"}\n",
        "-----------------------------------------------------------------\n",
        "H0: Mean first == Mean second\n",
        "H1(less): Mean first < Mean second\n",
        "\n",
        "p_value: {p_value13_less:.4f}\n",
        "p_value_scipy: {p_value13_less_scipy:.4f}\n",
        "alpha: {alpha}\n",
        "\n",
        "Own: {\"H0 rejected\" if p_value13_less < alpha else \"H0 not rejected\"}\n",
        "Scipy: {\"H0 rejected\" if p_value13_less < alpha else \"H0 not rejected\"}\n",
        "-----------------------------------------------------------------\n",
        "H0: Mean first == Mean second\n",
        "H1(greater): Mean first > Mean second\n",
        "\n",
        "p_value: {p_value13_greater:.4f}\n",
        "p_value_scipy: {p_value13_greater_scipy:.4f}\n",
        "alpha: {alpha}\n",
        "\n",
        "Own: {\"H0 rejected\" if p_value13_greater < alpha else \"H0 not rejected\"}\n",
        "Scipy: {\"H0 rejected\" if p_value13_greater_scipy < alpha else \"H0 not rejected\"}\n",
        "\"\"\")"
      ],
      "metadata": {
        "colab": {
          "base_uri": "https://localhost:8080/"
        },
        "id": "1LUx_j2X0CvM",
        "outputId": "2ad09995-4cce-400f-dd43-1ea93cde2c58"
      },
      "execution_count": 11,
      "outputs": [
        {
          "output_type": "stream",
          "name": "stdout",
          "text": [
            "\n",
            "=================================================================\n",
            "True mean first: 0\n",
            "True mean second: 0\n",
            "    \n",
            "Sample mean first: -0.0073\n",
            "Sample mean second: 0.0707\n",
            "\n",
            "t_stat: -1.6895\n",
            "t_stat_scipy: -1.6895\n",
            "-----------------------------------------------------------------\n",
            "H0: Mean first == Mean second\n",
            "H1(two-sided): Mean first != Mean second\n",
            "\n",
            "p_value: 0.0913\n",
            "p_value_scipy: 0.0913\n",
            "alpha: 0.05\n",
            "\n",
            "Own: H0 accepted\n",
            "Scipy: H0 accepted\n",
            "-----------------------------------------------------------------\n",
            "H0: Mean first == Mean second\n",
            "H1(less): Mean first < Mean second\n",
            "\n",
            "p_value: 0.0456\n",
            "p_value_scipy: 0.0456\n",
            "alpha: 0.05\n",
            "\n",
            "Own: H0 rejected\n",
            "Scipy: H0 rejected\n",
            "-----------------------------------------------------------------\n",
            "H0: Mean first == Mean second\n",
            "H1(greater): Mean first > Mean second\n",
            "\n",
            "p_value: 0.9544\n",
            "p_value_scipy: 0.9544\n",
            "alpha: 0.05\n",
            "\n",
            "Own: H0 not rejected\n",
            "Scipy: H0 not rejected\n",
            "=================================================================\n",
            "True mean first: 0\n",
            "True mean second: 10\n",
            "    \n",
            "Sample mean first: -0.0073\n",
            "Sample mean second: 9.9009\n",
            "\n",
            "t_stat: -217.3372\n",
            "t_stat_scipy: -217.3372\n",
            "-----------------------------------------------------------------\n",
            "H0: Mean first == Mean second\n",
            "H1(two-sided): Mean first != Mean second\n",
            "\n",
            "p_value: 0.0000\n",
            "p_value_scipy: 0.0000\n",
            "alpha: 0.05\n",
            "\n",
            "Own: H0 rejected\n",
            "Scipy: H0 rejected\n",
            "-----------------------------------------------------------------\n",
            "H0: Mean first == Mean second\n",
            "H1(less): Mean first < Mean second\n",
            "\n",
            "p_value: 0.0000\n",
            "p_value_scipy: 0.0000\n",
            "alpha: 0.05\n",
            "\n",
            "Own: H0 rejected\n",
            "Scipy: H0 rejected\n",
            "-----------------------------------------------------------------\n",
            "H0: Mean first == Mean second\n",
            "H1(greater): Mean first > Mean second\n",
            "\n",
            "p_value: 1.0000\n",
            "p_value_scipy: 1.0000\n",
            "alpha: 0.05\n",
            "\n",
            "Own: H0 not rejected\n",
            "Scipy: H0 not rejected\n",
            "\n"
          ]
        }
      ]
    },
    {
      "cell_type": "markdown",
      "source": [
        "# Задание 2: Bootstrap"
      ],
      "metadata": {
        "id": "BQruXOZJ3p1M"
      }
    },
    {
      "cell_type": "markdown",
      "source": [
        "**Реализовать bootstrap для оценки (через доверительные интервалы) медианных и средних значений распределений**"
      ],
      "metadata": {
        "id": "BZUK9iTe6dAG"
      }
    },
    {
      "cell_type": "code",
      "source": [
        "def bootstraped_ci(sample, func, alpha=0.05, n_bootstraped_samples=1000):\n",
        "    estimates = np.zeros(n_bootstraped_samples)\n",
        "    for i in range(n_bootstraped_samples):\n",
        "        bootstraped_sample = np.random.choice(sample, size=len(sample), replace=True)\n",
        "        estimates[i] = func(bootstraped_sample)\n",
        "\n",
        "    lower_bound = np.percentile(estimates, 100 * alpha / 2)\n",
        "    upper_bound = np.percentile(estimates, 100 * (1 - alpha / 2))\n",
        "\n",
        "    return lower_bound, upper_bound"
      ],
      "metadata": {
        "id": "NkAMkgHN6hIz"
      },
      "execution_count": 16,
      "outputs": []
    },
    {
      "cell_type": "markdown",
      "source": [
        "**Рассчитать для распределений: нормальное, экспоненциальное, смесь нормальных**"
      ],
      "metadata": {
        "id": "TOYN-4x3-NX2"
      }
    },
    {
      "cell_type": "code",
      "source": [
        "size = 1000\n",
        "\n",
        "sample_normal = np.random.normal(loc=0, scale=5, size=size)\n",
        "\n",
        "median_ci_normal = bootstraped_ci(sample_normal, np.median)\n",
        "mean_ci_normal = bootstraped_ci(sample_normal, np.mean)\n",
        "\n",
        "print(f\"Normal Distribution with mean = {0}, std = {5}\")\n",
        "print(f\"True median: {0}\")\n",
        "print(\"Median Confidence Interval:\", median_ci_normal)\n",
        "print(f\"True mean: {0}\")\n",
        "print(\"Mean Confidence Interval:\", mean_ci_normal)"
      ],
      "metadata": {
        "colab": {
          "base_uri": "https://localhost:8080/"
        },
        "id": "p0gJwMEF-rsf",
        "outputId": "bda005ef-a046-46ac-a673-45b10c8dc2d0"
      },
      "execution_count": 17,
      "outputs": [
        {
          "output_type": "stream",
          "name": "stdout",
          "text": [
            "Normal Distribution with mean = 0, std = 5\n",
            "True median: 0\n",
            "Median Confidence Interval: (-0.31289313482954534, 0.3714734018447236)\n",
            "True mean: 0\n",
            "Mean Confidence Interval: (-0.290168055734678, 0.34652420337663437)\n"
          ]
        }
      ]
    },
    {
      "cell_type": "code",
      "source": [
        "size = 1000\n",
        "sample_exponential = np.random.exponential(scale=1/8, size=size)\n",
        "\n",
        "median_ci_exponential = bootstraped_ci(sample_exponential, np.median)\n",
        "mean_ci_exponential = bootstraped_ci(sample_exponential, np.mean)\n",
        "\n",
        "print(f\"Exponential Distribution with lambda = {8}\")\n",
        "print(f\"True median: {np.log(2) / 8:.2f}\")\n",
        "print(\"Median Confidence Interval:\", median_ci_exponential)\n",
        "print(f\"True mean: {1/8:.2f}\")\n",
        "print(\"Mean Confidence Interval:\", mean_ci_exponential)"
      ],
      "metadata": {
        "colab": {
          "base_uri": "https://localhost:8080/"
        },
        "id": "qZkgI_As_Yn4",
        "outputId": "ddbb5ec5-d3a5-48f5-b5ee-0f77a7d7aa8e"
      },
      "execution_count": 20,
      "outputs": [
        {
          "output_type": "stream",
          "name": "stdout",
          "text": [
            "Exponential Distribution with lambda = 8\n",
            "True median: 0.09\n",
            "Median Confidence Interval: (0.08097217401327833, 0.09677874812269541)\n",
            "True mean: 0.12\n",
            "Mean Confidence Interval: (0.11772681516330313, 0.13352204807771867)\n"
          ]
        }
      ]
    },
    {
      "cell_type": "code",
      "source": [
        "sample_mixture = np.concatenate([np.random.normal(loc=-10, scale=1, size=500),\n",
        "                               np.random.normal(loc=10, scale=1, size=500)])\n",
        "\n",
        "median_ci_mixture = bootstraped_ci(sample_mixture, np.median)\n",
        "mean_ci_mixture = bootstraped_ci(sample_mixture, np.mean)\n",
        "\n",
        "print(f\"Mixture of Normal Distribution with mean = {-10} and std = {1}\\n\"\n",
        "      f\"and Normal Distribution with mean = {10} and std = {1}\")\n",
        "print(\"Median Confidence Interval:\", median_ci_mixture)\n",
        "print(\"Mean Confidence Interval:\", mean_ci_mixture)"
      ],
      "metadata": {
        "colab": {
          "base_uri": "https://localhost:8080/"
        },
        "id": "6896Kw-cAowW",
        "outputId": "ccd64ddd-d858-40b8-8c30-642b5765678e"
      },
      "execution_count": 22,
      "outputs": [
        {
          "output_type": "stream",
          "name": "stdout",
          "text": [
            "Mixture of Normal Distribution with mean = -10 and std = 1\n",
            "and Normal Distribution with mean = 10 and std = 1\n",
            "Median Confidence Interval: (-8.487589195746775, 8.455310378980249)\n",
            "Mean Confidence Interval: (-0.6169404094810399, 0.5853058322021875)\n"
          ]
        }
      ]
    },
    {
      "cell_type": "markdown",
      "source": [
        "# Задание 3: Мощность и корректность"
      ],
      "metadata": {
        "id": "561RjbWOBnZi"
      }
    },
    {
      "cell_type": "code",
      "source": [
        "def get_ttest_mannwhitneyutest_powers(dist, params_1, params_2, equal_var=True, alpha=0.05, n_exps=10000):\n",
        "    p_values_less_counter_ttest = 0\n",
        "    p_values_less_counter_mannwhitneyu = 0\n",
        "    for i in range(n_exps):\n",
        "        x_a = dist(**params_1)\n",
        "        x_b = dist(**params_2)\n",
        "        p_value_ttest = sps.ttest_ind(x_a, x_b, equal_var=equal_var).pvalue\n",
        "        p_value_mannwhitneyu = sps.mannwhitneyu(x_a, x_b).pvalue\n",
        "        p_values_less_counter_ttest += (p_value_ttest < alpha)\n",
        "        p_values_less_counter_mannwhitneyu += (p_value_mannwhitneyu < alpha)\n",
        "\n",
        "    return p_values_less_counter_ttest / n_exps * 100, p_values_less_counter_mannwhitneyu / n_exps * 100"
      ],
      "metadata": {
        "id": "Np2ZD9ejBuQW"
      },
      "execution_count": 25,
      "outputs": []
    },
    {
      "cell_type": "markdown",
      "source": [
        "**Рассчитать мощность критерия для t-критерия и критерия Манна-Уитни для разных распределений и разном эффекте.**"
      ],
      "metadata": {
        "id": "2MB2oBVLQOgN"
      }
    },
    {
      "cell_type": "code",
      "source": [
        "size = 100\n",
        "ttest_power, mannwhitneyu_power = get_ttest_mannwhitneyutest_powers(np.random.normal,\n",
        "                                                                    {\"loc\": 100, \"scale\": 1, \"size\": size},\n",
        "                                                                    {\"loc\": 101, \"scale\": 1, \"size\": size})\n",
        "print(f\"Normal Distribution with small effect ({1}%)\")\n",
        "print(f\"ttest power: {ttest_power:.3f}, mannwhitneyu power: {mannwhitneyu_power:.3f}\")"
      ],
      "metadata": {
        "colab": {
          "base_uri": "https://localhost:8080/"
        },
        "id": "JFFCePr4Hvbs",
        "outputId": "36edc007-7001-4d82-db2a-4866d0a03572"
      },
      "execution_count": 31,
      "outputs": [
        {
          "output_type": "stream",
          "name": "stdout",
          "text": [
            "Normal Distribution with small effect (1%)\n",
            "ttest power: 100.000, mannwhitneyu power: 100.000\n"
          ]
        }
      ]
    },
    {
      "cell_type": "code",
      "source": [
        "size = 100\n",
        "ttest_power, mannwhitneyu_power = get_ttest_mannwhitneyutest_powers(np.random.normal,\n",
        "                                                                    {\"loc\": 100, \"scale\": 1, \"size\": size},\n",
        "                                                                    {\"loc\": 110, \"scale\": 1, \"size\": size})\n",
        "print(f\"Normal Distribution with large effect ({10}%)\")\n",
        "print(f\"ttest power: {ttest_power:.3f}, mannwhitneyu power: {mannwhitneyu_power:.3f}\")"
      ],
      "metadata": {
        "colab": {
          "base_uri": "https://localhost:8080/"
        },
        "id": "Pi_qDq26N8nf",
        "outputId": "8f935b97-9a39-4d1e-c044-4d16c6bf7ede"
      },
      "execution_count": 35,
      "outputs": [
        {
          "output_type": "stream",
          "name": "stdout",
          "text": [
            "Normal Distribution with large effect (10%)\n",
            "ttest power: 100.000, mannwhitneyu power: 100.000\n"
          ]
        }
      ]
    },
    {
      "cell_type": "code",
      "source": [
        "size = 100\n",
        "ttest_power, mannwhitneyu_power = get_ttest_mannwhitneyutest_powers(np.random.exponential,\n",
        "                                                                    {\"scale\": 10, \"size\": size},\n",
        "                                                                    {\"scale\": 10.1, \"size\": size})\n",
        "print(f\"Exponential Distribution with small effect ({1}%)\")\n",
        "print(f\"ttest power: {ttest_power:.3f}, mannwhitneyu power: {mannwhitneyu_power:.3f}\")"
      ],
      "metadata": {
        "colab": {
          "base_uri": "https://localhost:8080/"
        },
        "id": "ZrL14wGxObCg",
        "outputId": "16229059-1f6e-4ba1-c422-37f05e7e23ab"
      },
      "execution_count": 36,
      "outputs": [
        {
          "output_type": "stream",
          "name": "stdout",
          "text": [
            "Exponential Distribution with small effect (1%)\n",
            "ttest power: 5.040, mannwhitneyu power: 5.180\n"
          ]
        }
      ]
    },
    {
      "cell_type": "code",
      "source": [
        "size = 100\n",
        "ttest_power, mannwhitneyu_power = get_ttest_mannwhitneyutest_powers(np.random.exponential,\n",
        "                                                                    {\"scale\": 10, \"size\": size},\n",
        "                                                                    {\"scale\": 11, \"size\": size})\n",
        "print(f\"Exponential Distribution with large effect ({10}%)\")\n",
        "print(f\"ttest power: {ttest_power:.3f}, mannwhitneyu power: {mannwhitneyu_power:.3f}\")"
      ],
      "metadata": {
        "colab": {
          "base_uri": "https://localhost:8080/"
        },
        "id": "VUA_0XA2PIdX",
        "outputId": "4cdd1e33-8c40-4082-9314-33dfde998654"
      },
      "execution_count": 37,
      "outputs": [
        {
          "output_type": "stream",
          "name": "stdout",
          "text": [
            "Exponential Distribution with large effect (10%)\n",
            "ttest power: 10.260, mannwhitneyu power: 8.950\n"
          ]
        }
      ]
    },
    {
      "cell_type": "markdown",
      "source": [
        "**Отдельно изучить случай, когда средние равны, а дисперсии сильно отличаются.**"
      ],
      "metadata": {
        "id": "g1G0-hKYQSfJ"
      }
    },
    {
      "cell_type": "code",
      "source": [
        "size = 100\n",
        "ttest_power, mannwhitneyu_power = get_ttest_mannwhitneyutest_powers(np.random.normal,\n",
        "                                                                    {\"loc\": 0, \"scale\": 1, \"size\": size},\n",
        "                                                                    {\"loc\": 0, \"scale\": 10, \"size\": size})\n",
        "print(f\"Normal Distribution with same means and different std\")\n",
        "print(f\"ttest power: {ttest_power:.3f}, mannwhitneyu power: {mannwhitneyu_power:.3f}\")"
      ],
      "metadata": {
        "colab": {
          "base_uri": "https://localhost:8080/"
        },
        "id": "FK9evTAhPNxV",
        "outputId": "b03ae8b9-cf8e-412d-a54d-9a8dddf9c220"
      },
      "execution_count": 38,
      "outputs": [
        {
          "output_type": "stream",
          "name": "stdout",
          "text": [
            "Normal Distribution with same means and different std\n",
            "ttest power: 5.180, mannwhitneyu power: 9.250\n"
          ]
        }
      ]
    },
    {
      "cell_type": "markdown",
      "source": [
        "**Оценить корректность t-критерия и критерия Манна-Уитни на разных распределениях.**"
      ],
      "metadata": {
        "id": "ZRMN8SMVPr0P"
      }
    },
    {
      "cell_type": "code",
      "source": [
        "size = 100\n",
        "n_exps = 1000\n",
        "p_values_ttest = np.empty(n_exps)\n",
        "p_values_mannwhitneyu = np.empty(n_exps)\n",
        "for i in range(n_exps):\n",
        "    x_a = sps.norm.rvs(loc=1, scale=1, size=size)\n",
        "    x_b = sps.norm.rvs(loc=1, scale=1, size=size)\n",
        "    p_values_ttest[i] = sps.ttest_ind(x_a, x_b, equal_var=False).pvalue\n",
        "    p_values_mannwhitneyu[i] = sps.mannwhitneyu(x_a, x_b).pvalue"
      ],
      "metadata": {
        "id": "CsrHsRwKQXGy"
      },
      "execution_count": 39,
      "outputs": []
    },
    {
      "cell_type": "code",
      "source": [
        "probas_ttest = []\n",
        "probas_mannwhitneyu = []\n",
        "xs = np.arange(0, 1, 0.01)\n",
        "for i in range(101):\n",
        "    alpha_step = 0.01 * i\n",
        "    probas_ttest.append(p_values_ttest[p_values_ttest < alpha_step].shape[0] / p_values_ttest.shape[0])\n",
        "    probas_mannwhitneyu.append(p_values_mannwhitneyu[p_values_mannwhitneyu < alpha_step].shape[0] / p_values_mannwhitneyu.shape[0])"
      ],
      "metadata": {
        "id": "4Tkb58zmQ0TR"
      },
      "execution_count": 42,
      "outputs": []
    },
    {
      "cell_type": "code",
      "source": [
        "fig = go.Figure([go.Scatter(x=xs, y=probas_ttest, mode=\"markers\", name=\"p_value\"),\n",
        "                 go.Scatter(x=xs, y=xs, mode=\"lines\", name=\"uniform\")])\n",
        "fig.update_layout(height=600, width=600, title=\"Q-Q plot ttest\")"
      ],
      "metadata": {
        "colab": {
          "base_uri": "https://localhost:8080/",
          "height": 617
        },
        "id": "hbdYAod8Rgv8",
        "outputId": "4d5e58d1-78a1-4d8f-9905-50d188a98280"
      },
      "execution_count": 48,
      "outputs": [
        {
          "output_type": "display_data",
          "data": {
            "text/html": [
              "<html>\n",
              "<head><meta charset=\"utf-8\" /></head>\n",
              "<body>\n",
              "    <div>            <script src=\"https://cdnjs.cloudflare.com/ajax/libs/mathjax/2.7.5/MathJax.js?config=TeX-AMS-MML_SVG\"></script><script type=\"text/javascript\">if (window.MathJax && window.MathJax.Hub && window.MathJax.Hub.Config) {window.MathJax.Hub.Config({SVG: {font: \"STIX-Web\"}});}</script>                <script type=\"text/javascript\">window.PlotlyConfig = {MathJaxConfig: 'local'};</script>\n",
              "        <script src=\"https://cdn.plot.ly/plotly-2.18.2.min.js\"></script>                <div id=\"b2020fbb-9c73-4e4a-9942-af50927843dc\" class=\"plotly-graph-div\" style=\"height:600px; width:600px;\"></div>            <script type=\"text/javascript\">                                    window.PLOTLYENV=window.PLOTLYENV || {};                                    if (document.getElementById(\"b2020fbb-9c73-4e4a-9942-af50927843dc\")) {                    Plotly.newPlot(                        \"b2020fbb-9c73-4e4a-9942-af50927843dc\",                        [{\"mode\":\"markers\",\"name\":\"p_value\",\"x\":[0.0,0.01,0.02,0.03,0.04,0.05,0.06,0.07,0.08,0.09,0.1,0.11,0.12,0.13,0.14,0.15,0.16,0.17,0.18,0.19,0.2,0.21,0.22,0.23,0.24,0.25,0.26,0.27,0.28,0.29,0.3,0.31,0.32,0.33,0.34,0.35000000000000003,0.36,0.37,0.38,0.39,0.4,0.41000000000000003,0.42,0.43,0.44,0.45,0.46,0.47000000000000003,0.48,0.49,0.5,0.51,0.52,0.53,0.54,0.55,0.56,0.5700000000000001,0.58,0.59,0.6,0.61,0.62,0.63,0.64,0.65,0.66,0.67,0.68,0.6900000000000001,0.7000000000000001,0.71,0.72,0.73,0.74,0.75,0.76,0.77,0.78,0.79,0.8,0.81,0.8200000000000001,0.8300000000000001,0.84,0.85,0.86,0.87,0.88,0.89,0.9,0.91,0.92,0.93,0.9400000000000001,0.9500000000000001,0.96,0.97,0.98,0.99],\"y\":[0.0,0.003,0.012,0.025,0.036,0.048,0.058,0.063,0.071,0.083,0.096,0.105,0.115,0.123,0.132,0.14,0.154,0.162,0.173,0.182,0.192,0.201,0.216,0.222,0.239,0.253,0.27,0.281,0.292,0.305,0.318,0.326,0.332,0.348,0.361,0.376,0.393,0.406,0.417,0.425,0.437,0.446,0.455,0.462,0.465,0.475,0.486,0.498,0.505,0.513,0.531,0.538,0.545,0.557,0.564,0.574,0.58,0.588,0.596,0.608,0.617,0.631,0.642,0.651,0.664,0.67,0.678,0.684,0.696,0.704,0.715,0.728,0.747,0.759,0.765,0.767,0.779,0.787,0.798,0.808,0.815,0.827,0.833,0.844,0.855,0.866,0.874,0.88,0.885,0.896,0.904,0.912,0.917,0.927,0.936,0.944,0.953,0.963,0.973,0.986,1.0],\"type\":\"scatter\"},{\"mode\":\"lines\",\"name\":\"uniform\",\"x\":[0.0,0.01,0.02,0.03,0.04,0.05,0.06,0.07,0.08,0.09,0.1,0.11,0.12,0.13,0.14,0.15,0.16,0.17,0.18,0.19,0.2,0.21,0.22,0.23,0.24,0.25,0.26,0.27,0.28,0.29,0.3,0.31,0.32,0.33,0.34,0.35000000000000003,0.36,0.37,0.38,0.39,0.4,0.41000000000000003,0.42,0.43,0.44,0.45,0.46,0.47000000000000003,0.48,0.49,0.5,0.51,0.52,0.53,0.54,0.55,0.56,0.5700000000000001,0.58,0.59,0.6,0.61,0.62,0.63,0.64,0.65,0.66,0.67,0.68,0.6900000000000001,0.7000000000000001,0.71,0.72,0.73,0.74,0.75,0.76,0.77,0.78,0.79,0.8,0.81,0.8200000000000001,0.8300000000000001,0.84,0.85,0.86,0.87,0.88,0.89,0.9,0.91,0.92,0.93,0.9400000000000001,0.9500000000000001,0.96,0.97,0.98,0.99],\"y\":[0.0,0.01,0.02,0.03,0.04,0.05,0.06,0.07,0.08,0.09,0.1,0.11,0.12,0.13,0.14,0.15,0.16,0.17,0.18,0.19,0.2,0.21,0.22,0.23,0.24,0.25,0.26,0.27,0.28,0.29,0.3,0.31,0.32,0.33,0.34,0.35000000000000003,0.36,0.37,0.38,0.39,0.4,0.41000000000000003,0.42,0.43,0.44,0.45,0.46,0.47000000000000003,0.48,0.49,0.5,0.51,0.52,0.53,0.54,0.55,0.56,0.5700000000000001,0.58,0.59,0.6,0.61,0.62,0.63,0.64,0.65,0.66,0.67,0.68,0.6900000000000001,0.7000000000000001,0.71,0.72,0.73,0.74,0.75,0.76,0.77,0.78,0.79,0.8,0.81,0.8200000000000001,0.8300000000000001,0.84,0.85,0.86,0.87,0.88,0.89,0.9,0.91,0.92,0.93,0.9400000000000001,0.9500000000000001,0.96,0.97,0.98,0.99],\"type\":\"scatter\"}],                        {\"template\":{\"data\":{\"histogram2dcontour\":[{\"type\":\"histogram2dcontour\",\"colorbar\":{\"outlinewidth\":0,\"ticks\":\"\"},\"colorscale\":[[0.0,\"#0d0887\"],[0.1111111111111111,\"#46039f\"],[0.2222222222222222,\"#7201a8\"],[0.3333333333333333,\"#9c179e\"],[0.4444444444444444,\"#bd3786\"],[0.5555555555555556,\"#d8576b\"],[0.6666666666666666,\"#ed7953\"],[0.7777777777777778,\"#fb9f3a\"],[0.8888888888888888,\"#fdca26\"],[1.0,\"#f0f921\"]]}],\"choropleth\":[{\"type\":\"choropleth\",\"colorbar\":{\"outlinewidth\":0,\"ticks\":\"\"}}],\"histogram2d\":[{\"type\":\"histogram2d\",\"colorbar\":{\"outlinewidth\":0,\"ticks\":\"\"},\"colorscale\":[[0.0,\"#0d0887\"],[0.1111111111111111,\"#46039f\"],[0.2222222222222222,\"#7201a8\"],[0.3333333333333333,\"#9c179e\"],[0.4444444444444444,\"#bd3786\"],[0.5555555555555556,\"#d8576b\"],[0.6666666666666666,\"#ed7953\"],[0.7777777777777778,\"#fb9f3a\"],[0.8888888888888888,\"#fdca26\"],[1.0,\"#f0f921\"]]}],\"heatmap\":[{\"type\":\"heatmap\",\"colorbar\":{\"outlinewidth\":0,\"ticks\":\"\"},\"colorscale\":[[0.0,\"#0d0887\"],[0.1111111111111111,\"#46039f\"],[0.2222222222222222,\"#7201a8\"],[0.3333333333333333,\"#9c179e\"],[0.4444444444444444,\"#bd3786\"],[0.5555555555555556,\"#d8576b\"],[0.6666666666666666,\"#ed7953\"],[0.7777777777777778,\"#fb9f3a\"],[0.8888888888888888,\"#fdca26\"],[1.0,\"#f0f921\"]]}],\"heatmapgl\":[{\"type\":\"heatmapgl\",\"colorbar\":{\"outlinewidth\":0,\"ticks\":\"\"},\"colorscale\":[[0.0,\"#0d0887\"],[0.1111111111111111,\"#46039f\"],[0.2222222222222222,\"#7201a8\"],[0.3333333333333333,\"#9c179e\"],[0.4444444444444444,\"#bd3786\"],[0.5555555555555556,\"#d8576b\"],[0.6666666666666666,\"#ed7953\"],[0.7777777777777778,\"#fb9f3a\"],[0.8888888888888888,\"#fdca26\"],[1.0,\"#f0f921\"]]}],\"contourcarpet\":[{\"type\":\"contourcarpet\",\"colorbar\":{\"outlinewidth\":0,\"ticks\":\"\"}}],\"contour\":[{\"type\":\"contour\",\"colorbar\":{\"outlinewidth\":0,\"ticks\":\"\"},\"colorscale\":[[0.0,\"#0d0887\"],[0.1111111111111111,\"#46039f\"],[0.2222222222222222,\"#7201a8\"],[0.3333333333333333,\"#9c179e\"],[0.4444444444444444,\"#bd3786\"],[0.5555555555555556,\"#d8576b\"],[0.6666666666666666,\"#ed7953\"],[0.7777777777777778,\"#fb9f3a\"],[0.8888888888888888,\"#fdca26\"],[1.0,\"#f0f921\"]]}],\"surface\":[{\"type\":\"surface\",\"colorbar\":{\"outlinewidth\":0,\"ticks\":\"\"},\"colorscale\":[[0.0,\"#0d0887\"],[0.1111111111111111,\"#46039f\"],[0.2222222222222222,\"#7201a8\"],[0.3333333333333333,\"#9c179e\"],[0.4444444444444444,\"#bd3786\"],[0.5555555555555556,\"#d8576b\"],[0.6666666666666666,\"#ed7953\"],[0.7777777777777778,\"#fb9f3a\"],[0.8888888888888888,\"#fdca26\"],[1.0,\"#f0f921\"]]}],\"mesh3d\":[{\"type\":\"mesh3d\",\"colorbar\":{\"outlinewidth\":0,\"ticks\":\"\"}}],\"scatter\":[{\"fillpattern\":{\"fillmode\":\"overlay\",\"size\":10,\"solidity\":0.2},\"type\":\"scatter\"}],\"parcoords\":[{\"type\":\"parcoords\",\"line\":{\"colorbar\":{\"outlinewidth\":0,\"ticks\":\"\"}}}],\"scatterpolargl\":[{\"type\":\"scatterpolargl\",\"marker\":{\"colorbar\":{\"outlinewidth\":0,\"ticks\":\"\"}}}],\"bar\":[{\"error_x\":{\"color\":\"#2a3f5f\"},\"error_y\":{\"color\":\"#2a3f5f\"},\"marker\":{\"line\":{\"color\":\"#E5ECF6\",\"width\":0.5},\"pattern\":{\"fillmode\":\"overlay\",\"size\":10,\"solidity\":0.2}},\"type\":\"bar\"}],\"scattergeo\":[{\"type\":\"scattergeo\",\"marker\":{\"colorbar\":{\"outlinewidth\":0,\"ticks\":\"\"}}}],\"scatterpolar\":[{\"type\":\"scatterpolar\",\"marker\":{\"colorbar\":{\"outlinewidth\":0,\"ticks\":\"\"}}}],\"histogram\":[{\"marker\":{\"pattern\":{\"fillmode\":\"overlay\",\"size\":10,\"solidity\":0.2}},\"type\":\"histogram\"}],\"scattergl\":[{\"type\":\"scattergl\",\"marker\":{\"colorbar\":{\"outlinewidth\":0,\"ticks\":\"\"}}}],\"scatter3d\":[{\"type\":\"scatter3d\",\"line\":{\"colorbar\":{\"outlinewidth\":0,\"ticks\":\"\"}},\"marker\":{\"colorbar\":{\"outlinewidth\":0,\"ticks\":\"\"}}}],\"scattermapbox\":[{\"type\":\"scattermapbox\",\"marker\":{\"colorbar\":{\"outlinewidth\":0,\"ticks\":\"\"}}}],\"scatterternary\":[{\"type\":\"scatterternary\",\"marker\":{\"colorbar\":{\"outlinewidth\":0,\"ticks\":\"\"}}}],\"scattercarpet\":[{\"type\":\"scattercarpet\",\"marker\":{\"colorbar\":{\"outlinewidth\":0,\"ticks\":\"\"}}}],\"carpet\":[{\"aaxis\":{\"endlinecolor\":\"#2a3f5f\",\"gridcolor\":\"white\",\"linecolor\":\"white\",\"minorgridcolor\":\"white\",\"startlinecolor\":\"#2a3f5f\"},\"baxis\":{\"endlinecolor\":\"#2a3f5f\",\"gridcolor\":\"white\",\"linecolor\":\"white\",\"minorgridcolor\":\"white\",\"startlinecolor\":\"#2a3f5f\"},\"type\":\"carpet\"}],\"table\":[{\"cells\":{\"fill\":{\"color\":\"#EBF0F8\"},\"line\":{\"color\":\"white\"}},\"header\":{\"fill\":{\"color\":\"#C8D4E3\"},\"line\":{\"color\":\"white\"}},\"type\":\"table\"}],\"barpolar\":[{\"marker\":{\"line\":{\"color\":\"#E5ECF6\",\"width\":0.5},\"pattern\":{\"fillmode\":\"overlay\",\"size\":10,\"solidity\":0.2}},\"type\":\"barpolar\"}],\"pie\":[{\"automargin\":true,\"type\":\"pie\"}]},\"layout\":{\"autotypenumbers\":\"strict\",\"colorway\":[\"#636efa\",\"#EF553B\",\"#00cc96\",\"#ab63fa\",\"#FFA15A\",\"#19d3f3\",\"#FF6692\",\"#B6E880\",\"#FF97FF\",\"#FECB52\"],\"font\":{\"color\":\"#2a3f5f\"},\"hovermode\":\"closest\",\"hoverlabel\":{\"align\":\"left\"},\"paper_bgcolor\":\"white\",\"plot_bgcolor\":\"#E5ECF6\",\"polar\":{\"bgcolor\":\"#E5ECF6\",\"angularaxis\":{\"gridcolor\":\"white\",\"linecolor\":\"white\",\"ticks\":\"\"},\"radialaxis\":{\"gridcolor\":\"white\",\"linecolor\":\"white\",\"ticks\":\"\"}},\"ternary\":{\"bgcolor\":\"#E5ECF6\",\"aaxis\":{\"gridcolor\":\"white\",\"linecolor\":\"white\",\"ticks\":\"\"},\"baxis\":{\"gridcolor\":\"white\",\"linecolor\":\"white\",\"ticks\":\"\"},\"caxis\":{\"gridcolor\":\"white\",\"linecolor\":\"white\",\"ticks\":\"\"}},\"coloraxis\":{\"colorbar\":{\"outlinewidth\":0,\"ticks\":\"\"}},\"colorscale\":{\"sequential\":[[0.0,\"#0d0887\"],[0.1111111111111111,\"#46039f\"],[0.2222222222222222,\"#7201a8\"],[0.3333333333333333,\"#9c179e\"],[0.4444444444444444,\"#bd3786\"],[0.5555555555555556,\"#d8576b\"],[0.6666666666666666,\"#ed7953\"],[0.7777777777777778,\"#fb9f3a\"],[0.8888888888888888,\"#fdca26\"],[1.0,\"#f0f921\"]],\"sequentialminus\":[[0.0,\"#0d0887\"],[0.1111111111111111,\"#46039f\"],[0.2222222222222222,\"#7201a8\"],[0.3333333333333333,\"#9c179e\"],[0.4444444444444444,\"#bd3786\"],[0.5555555555555556,\"#d8576b\"],[0.6666666666666666,\"#ed7953\"],[0.7777777777777778,\"#fb9f3a\"],[0.8888888888888888,\"#fdca26\"],[1.0,\"#f0f921\"]],\"diverging\":[[0,\"#8e0152\"],[0.1,\"#c51b7d\"],[0.2,\"#de77ae\"],[0.3,\"#f1b6da\"],[0.4,\"#fde0ef\"],[0.5,\"#f7f7f7\"],[0.6,\"#e6f5d0\"],[0.7,\"#b8e186\"],[0.8,\"#7fbc41\"],[0.9,\"#4d9221\"],[1,\"#276419\"]]},\"xaxis\":{\"gridcolor\":\"white\",\"linecolor\":\"white\",\"ticks\":\"\",\"title\":{\"standoff\":15},\"zerolinecolor\":\"white\",\"automargin\":true,\"zerolinewidth\":2},\"yaxis\":{\"gridcolor\":\"white\",\"linecolor\":\"white\",\"ticks\":\"\",\"title\":{\"standoff\":15},\"zerolinecolor\":\"white\",\"automargin\":true,\"zerolinewidth\":2},\"scene\":{\"xaxis\":{\"backgroundcolor\":\"#E5ECF6\",\"gridcolor\":\"white\",\"linecolor\":\"white\",\"showbackground\":true,\"ticks\":\"\",\"zerolinecolor\":\"white\",\"gridwidth\":2},\"yaxis\":{\"backgroundcolor\":\"#E5ECF6\",\"gridcolor\":\"white\",\"linecolor\":\"white\",\"showbackground\":true,\"ticks\":\"\",\"zerolinecolor\":\"white\",\"gridwidth\":2},\"zaxis\":{\"backgroundcolor\":\"#E5ECF6\",\"gridcolor\":\"white\",\"linecolor\":\"white\",\"showbackground\":true,\"ticks\":\"\",\"zerolinecolor\":\"white\",\"gridwidth\":2}},\"shapedefaults\":{\"line\":{\"color\":\"#2a3f5f\"}},\"annotationdefaults\":{\"arrowcolor\":\"#2a3f5f\",\"arrowhead\":0,\"arrowwidth\":1},\"geo\":{\"bgcolor\":\"white\",\"landcolor\":\"#E5ECF6\",\"subunitcolor\":\"white\",\"showland\":true,\"showlakes\":true,\"lakecolor\":\"white\"},\"title\":{\"x\":0.05},\"mapbox\":{\"style\":\"light\"}}},\"height\":600,\"width\":600,\"title\":{\"text\":\"Q-Q plot ttest\"}},                        {\"responsive\": true}                    ).then(function(){\n",
              "                            \n",
              "var gd = document.getElementById('b2020fbb-9c73-4e4a-9942-af50927843dc');\n",
              "var x = new MutationObserver(function (mutations, observer) {{\n",
              "        var display = window.getComputedStyle(gd).display;\n",
              "        if (!display || display === 'none') {{\n",
              "            console.log([gd, 'removed!']);\n",
              "            Plotly.purge(gd);\n",
              "            observer.disconnect();\n",
              "        }}\n",
              "}});\n",
              "\n",
              "// Listen for the removal of the full notebook cells\n",
              "var notebookContainer = gd.closest('#notebook-container');\n",
              "if (notebookContainer) {{\n",
              "    x.observe(notebookContainer, {childList: true});\n",
              "}}\n",
              "\n",
              "// Listen for the clearing of the current output cell\n",
              "var outputEl = gd.closest('.output');\n",
              "if (outputEl) {{\n",
              "    x.observe(outputEl, {childList: true});\n",
              "}}\n",
              "\n",
              "                        })                };                            </script>        </div>\n",
              "</body>\n",
              "</html>"
            ]
          },
          "metadata": {}
        }
      ]
    },
    {
      "cell_type": "code",
      "source": [
        "fig = go.Figure([go.Scatter(x=xs, y=probas_mannwhitneyu, mode=\"markers\", name=\"p_value\"),\n",
        "                 go.Scatter(x=xs, y=xs, mode=\"lines\", name=\"uniform\")])\n",
        "fig.update_layout(height=600, width=600, title=\"Q-Q plot mannwhitneyu\")"
      ],
      "metadata": {
        "colab": {
          "base_uri": "https://localhost:8080/",
          "height": 617
        },
        "id": "od2DWC75RhVX",
        "outputId": "a2ee74f1-f6af-43b6-dd0c-80ac72376940"
      },
      "execution_count": 49,
      "outputs": [
        {
          "output_type": "display_data",
          "data": {
            "text/html": [
              "<html>\n",
              "<head><meta charset=\"utf-8\" /></head>\n",
              "<body>\n",
              "    <div>            <script src=\"https://cdnjs.cloudflare.com/ajax/libs/mathjax/2.7.5/MathJax.js?config=TeX-AMS-MML_SVG\"></script><script type=\"text/javascript\">if (window.MathJax && window.MathJax.Hub && window.MathJax.Hub.Config) {window.MathJax.Hub.Config({SVG: {font: \"STIX-Web\"}});}</script>                <script type=\"text/javascript\">window.PlotlyConfig = {MathJaxConfig: 'local'};</script>\n",
              "        <script src=\"https://cdn.plot.ly/plotly-2.18.2.min.js\"></script>                <div id=\"4e2445c4-b87b-4907-b06b-eb1383318bf0\" class=\"plotly-graph-div\" style=\"height:600px; width:600px;\"></div>            <script type=\"text/javascript\">                                    window.PLOTLYENV=window.PLOTLYENV || {};                                    if (document.getElementById(\"4e2445c4-b87b-4907-b06b-eb1383318bf0\")) {                    Plotly.newPlot(                        \"4e2445c4-b87b-4907-b06b-eb1383318bf0\",                        [{\"mode\":\"markers\",\"name\":\"p_value\",\"x\":[0.0,0.01,0.02,0.03,0.04,0.05,0.06,0.07,0.08,0.09,0.1,0.11,0.12,0.13,0.14,0.15,0.16,0.17,0.18,0.19,0.2,0.21,0.22,0.23,0.24,0.25,0.26,0.27,0.28,0.29,0.3,0.31,0.32,0.33,0.34,0.35000000000000003,0.36,0.37,0.38,0.39,0.4,0.41000000000000003,0.42,0.43,0.44,0.45,0.46,0.47000000000000003,0.48,0.49,0.5,0.51,0.52,0.53,0.54,0.55,0.56,0.5700000000000001,0.58,0.59,0.6,0.61,0.62,0.63,0.64,0.65,0.66,0.67,0.68,0.6900000000000001,0.7000000000000001,0.71,0.72,0.73,0.74,0.75,0.76,0.77,0.78,0.79,0.8,0.81,0.8200000000000001,0.8300000000000001,0.84,0.85,0.86,0.87,0.88,0.89,0.9,0.91,0.92,0.93,0.9400000000000001,0.9500000000000001,0.96,0.97,0.98,0.99],\"y\":[0.0,0.003,0.01,0.021,0.032,0.043,0.057,0.067,0.073,0.083,0.09,0.1,0.113,0.124,0.134,0.141,0.148,0.154,0.156,0.17,0.188,0.202,0.214,0.223,0.232,0.244,0.255,0.268,0.28,0.293,0.308,0.321,0.334,0.347,0.359,0.373,0.382,0.394,0.404,0.413,0.432,0.444,0.453,0.461,0.469,0.487,0.5,0.504,0.512,0.522,0.535,0.539,0.547,0.558,0.571,0.577,0.589,0.601,0.615,0.622,0.629,0.644,0.653,0.66,0.667,0.673,0.681,0.685,0.695,0.707,0.717,0.726,0.729,0.738,0.748,0.758,0.765,0.771,0.784,0.793,0.802,0.811,0.824,0.834,0.846,0.857,0.864,0.871,0.883,0.891,0.902,0.908,0.915,0.925,0.938,0.946,0.953,0.966,0.976,0.989,0.999],\"type\":\"scatter\"},{\"mode\":\"lines\",\"name\":\"uniform\",\"x\":[0.0,0.01,0.02,0.03,0.04,0.05,0.06,0.07,0.08,0.09,0.1,0.11,0.12,0.13,0.14,0.15,0.16,0.17,0.18,0.19,0.2,0.21,0.22,0.23,0.24,0.25,0.26,0.27,0.28,0.29,0.3,0.31,0.32,0.33,0.34,0.35000000000000003,0.36,0.37,0.38,0.39,0.4,0.41000000000000003,0.42,0.43,0.44,0.45,0.46,0.47000000000000003,0.48,0.49,0.5,0.51,0.52,0.53,0.54,0.55,0.56,0.5700000000000001,0.58,0.59,0.6,0.61,0.62,0.63,0.64,0.65,0.66,0.67,0.68,0.6900000000000001,0.7000000000000001,0.71,0.72,0.73,0.74,0.75,0.76,0.77,0.78,0.79,0.8,0.81,0.8200000000000001,0.8300000000000001,0.84,0.85,0.86,0.87,0.88,0.89,0.9,0.91,0.92,0.93,0.9400000000000001,0.9500000000000001,0.96,0.97,0.98,0.99],\"y\":[0.0,0.01,0.02,0.03,0.04,0.05,0.06,0.07,0.08,0.09,0.1,0.11,0.12,0.13,0.14,0.15,0.16,0.17,0.18,0.19,0.2,0.21,0.22,0.23,0.24,0.25,0.26,0.27,0.28,0.29,0.3,0.31,0.32,0.33,0.34,0.35000000000000003,0.36,0.37,0.38,0.39,0.4,0.41000000000000003,0.42,0.43,0.44,0.45,0.46,0.47000000000000003,0.48,0.49,0.5,0.51,0.52,0.53,0.54,0.55,0.56,0.5700000000000001,0.58,0.59,0.6,0.61,0.62,0.63,0.64,0.65,0.66,0.67,0.68,0.6900000000000001,0.7000000000000001,0.71,0.72,0.73,0.74,0.75,0.76,0.77,0.78,0.79,0.8,0.81,0.8200000000000001,0.8300000000000001,0.84,0.85,0.86,0.87,0.88,0.89,0.9,0.91,0.92,0.93,0.9400000000000001,0.9500000000000001,0.96,0.97,0.98,0.99],\"type\":\"scatter\"}],                        {\"template\":{\"data\":{\"histogram2dcontour\":[{\"type\":\"histogram2dcontour\",\"colorbar\":{\"outlinewidth\":0,\"ticks\":\"\"},\"colorscale\":[[0.0,\"#0d0887\"],[0.1111111111111111,\"#46039f\"],[0.2222222222222222,\"#7201a8\"],[0.3333333333333333,\"#9c179e\"],[0.4444444444444444,\"#bd3786\"],[0.5555555555555556,\"#d8576b\"],[0.6666666666666666,\"#ed7953\"],[0.7777777777777778,\"#fb9f3a\"],[0.8888888888888888,\"#fdca26\"],[1.0,\"#f0f921\"]]}],\"choropleth\":[{\"type\":\"choropleth\",\"colorbar\":{\"outlinewidth\":0,\"ticks\":\"\"}}],\"histogram2d\":[{\"type\":\"histogram2d\",\"colorbar\":{\"outlinewidth\":0,\"ticks\":\"\"},\"colorscale\":[[0.0,\"#0d0887\"],[0.1111111111111111,\"#46039f\"],[0.2222222222222222,\"#7201a8\"],[0.3333333333333333,\"#9c179e\"],[0.4444444444444444,\"#bd3786\"],[0.5555555555555556,\"#d8576b\"],[0.6666666666666666,\"#ed7953\"],[0.7777777777777778,\"#fb9f3a\"],[0.8888888888888888,\"#fdca26\"],[1.0,\"#f0f921\"]]}],\"heatmap\":[{\"type\":\"heatmap\",\"colorbar\":{\"outlinewidth\":0,\"ticks\":\"\"},\"colorscale\":[[0.0,\"#0d0887\"],[0.1111111111111111,\"#46039f\"],[0.2222222222222222,\"#7201a8\"],[0.3333333333333333,\"#9c179e\"],[0.4444444444444444,\"#bd3786\"],[0.5555555555555556,\"#d8576b\"],[0.6666666666666666,\"#ed7953\"],[0.7777777777777778,\"#fb9f3a\"],[0.8888888888888888,\"#fdca26\"],[1.0,\"#f0f921\"]]}],\"heatmapgl\":[{\"type\":\"heatmapgl\",\"colorbar\":{\"outlinewidth\":0,\"ticks\":\"\"},\"colorscale\":[[0.0,\"#0d0887\"],[0.1111111111111111,\"#46039f\"],[0.2222222222222222,\"#7201a8\"],[0.3333333333333333,\"#9c179e\"],[0.4444444444444444,\"#bd3786\"],[0.5555555555555556,\"#d8576b\"],[0.6666666666666666,\"#ed7953\"],[0.7777777777777778,\"#fb9f3a\"],[0.8888888888888888,\"#fdca26\"],[1.0,\"#f0f921\"]]}],\"contourcarpet\":[{\"type\":\"contourcarpet\",\"colorbar\":{\"outlinewidth\":0,\"ticks\":\"\"}}],\"contour\":[{\"type\":\"contour\",\"colorbar\":{\"outlinewidth\":0,\"ticks\":\"\"},\"colorscale\":[[0.0,\"#0d0887\"],[0.1111111111111111,\"#46039f\"],[0.2222222222222222,\"#7201a8\"],[0.3333333333333333,\"#9c179e\"],[0.4444444444444444,\"#bd3786\"],[0.5555555555555556,\"#d8576b\"],[0.6666666666666666,\"#ed7953\"],[0.7777777777777778,\"#fb9f3a\"],[0.8888888888888888,\"#fdca26\"],[1.0,\"#f0f921\"]]}],\"surface\":[{\"type\":\"surface\",\"colorbar\":{\"outlinewidth\":0,\"ticks\":\"\"},\"colorscale\":[[0.0,\"#0d0887\"],[0.1111111111111111,\"#46039f\"],[0.2222222222222222,\"#7201a8\"],[0.3333333333333333,\"#9c179e\"],[0.4444444444444444,\"#bd3786\"],[0.5555555555555556,\"#d8576b\"],[0.6666666666666666,\"#ed7953\"],[0.7777777777777778,\"#fb9f3a\"],[0.8888888888888888,\"#fdca26\"],[1.0,\"#f0f921\"]]}],\"mesh3d\":[{\"type\":\"mesh3d\",\"colorbar\":{\"outlinewidth\":0,\"ticks\":\"\"}}],\"scatter\":[{\"fillpattern\":{\"fillmode\":\"overlay\",\"size\":10,\"solidity\":0.2},\"type\":\"scatter\"}],\"parcoords\":[{\"type\":\"parcoords\",\"line\":{\"colorbar\":{\"outlinewidth\":0,\"ticks\":\"\"}}}],\"scatterpolargl\":[{\"type\":\"scatterpolargl\",\"marker\":{\"colorbar\":{\"outlinewidth\":0,\"ticks\":\"\"}}}],\"bar\":[{\"error_x\":{\"color\":\"#2a3f5f\"},\"error_y\":{\"color\":\"#2a3f5f\"},\"marker\":{\"line\":{\"color\":\"#E5ECF6\",\"width\":0.5},\"pattern\":{\"fillmode\":\"overlay\",\"size\":10,\"solidity\":0.2}},\"type\":\"bar\"}],\"scattergeo\":[{\"type\":\"scattergeo\",\"marker\":{\"colorbar\":{\"outlinewidth\":0,\"ticks\":\"\"}}}],\"scatterpolar\":[{\"type\":\"scatterpolar\",\"marker\":{\"colorbar\":{\"outlinewidth\":0,\"ticks\":\"\"}}}],\"histogram\":[{\"marker\":{\"pattern\":{\"fillmode\":\"overlay\",\"size\":10,\"solidity\":0.2}},\"type\":\"histogram\"}],\"scattergl\":[{\"type\":\"scattergl\",\"marker\":{\"colorbar\":{\"outlinewidth\":0,\"ticks\":\"\"}}}],\"scatter3d\":[{\"type\":\"scatter3d\",\"line\":{\"colorbar\":{\"outlinewidth\":0,\"ticks\":\"\"}},\"marker\":{\"colorbar\":{\"outlinewidth\":0,\"ticks\":\"\"}}}],\"scattermapbox\":[{\"type\":\"scattermapbox\",\"marker\":{\"colorbar\":{\"outlinewidth\":0,\"ticks\":\"\"}}}],\"scatterternary\":[{\"type\":\"scatterternary\",\"marker\":{\"colorbar\":{\"outlinewidth\":0,\"ticks\":\"\"}}}],\"scattercarpet\":[{\"type\":\"scattercarpet\",\"marker\":{\"colorbar\":{\"outlinewidth\":0,\"ticks\":\"\"}}}],\"carpet\":[{\"aaxis\":{\"endlinecolor\":\"#2a3f5f\",\"gridcolor\":\"white\",\"linecolor\":\"white\",\"minorgridcolor\":\"white\",\"startlinecolor\":\"#2a3f5f\"},\"baxis\":{\"endlinecolor\":\"#2a3f5f\",\"gridcolor\":\"white\",\"linecolor\":\"white\",\"minorgridcolor\":\"white\",\"startlinecolor\":\"#2a3f5f\"},\"type\":\"carpet\"}],\"table\":[{\"cells\":{\"fill\":{\"color\":\"#EBF0F8\"},\"line\":{\"color\":\"white\"}},\"header\":{\"fill\":{\"color\":\"#C8D4E3\"},\"line\":{\"color\":\"white\"}},\"type\":\"table\"}],\"barpolar\":[{\"marker\":{\"line\":{\"color\":\"#E5ECF6\",\"width\":0.5},\"pattern\":{\"fillmode\":\"overlay\",\"size\":10,\"solidity\":0.2}},\"type\":\"barpolar\"}],\"pie\":[{\"automargin\":true,\"type\":\"pie\"}]},\"layout\":{\"autotypenumbers\":\"strict\",\"colorway\":[\"#636efa\",\"#EF553B\",\"#00cc96\",\"#ab63fa\",\"#FFA15A\",\"#19d3f3\",\"#FF6692\",\"#B6E880\",\"#FF97FF\",\"#FECB52\"],\"font\":{\"color\":\"#2a3f5f\"},\"hovermode\":\"closest\",\"hoverlabel\":{\"align\":\"left\"},\"paper_bgcolor\":\"white\",\"plot_bgcolor\":\"#E5ECF6\",\"polar\":{\"bgcolor\":\"#E5ECF6\",\"angularaxis\":{\"gridcolor\":\"white\",\"linecolor\":\"white\",\"ticks\":\"\"},\"radialaxis\":{\"gridcolor\":\"white\",\"linecolor\":\"white\",\"ticks\":\"\"}},\"ternary\":{\"bgcolor\":\"#E5ECF6\",\"aaxis\":{\"gridcolor\":\"white\",\"linecolor\":\"white\",\"ticks\":\"\"},\"baxis\":{\"gridcolor\":\"white\",\"linecolor\":\"white\",\"ticks\":\"\"},\"caxis\":{\"gridcolor\":\"white\",\"linecolor\":\"white\",\"ticks\":\"\"}},\"coloraxis\":{\"colorbar\":{\"outlinewidth\":0,\"ticks\":\"\"}},\"colorscale\":{\"sequential\":[[0.0,\"#0d0887\"],[0.1111111111111111,\"#46039f\"],[0.2222222222222222,\"#7201a8\"],[0.3333333333333333,\"#9c179e\"],[0.4444444444444444,\"#bd3786\"],[0.5555555555555556,\"#d8576b\"],[0.6666666666666666,\"#ed7953\"],[0.7777777777777778,\"#fb9f3a\"],[0.8888888888888888,\"#fdca26\"],[1.0,\"#f0f921\"]],\"sequentialminus\":[[0.0,\"#0d0887\"],[0.1111111111111111,\"#46039f\"],[0.2222222222222222,\"#7201a8\"],[0.3333333333333333,\"#9c179e\"],[0.4444444444444444,\"#bd3786\"],[0.5555555555555556,\"#d8576b\"],[0.6666666666666666,\"#ed7953\"],[0.7777777777777778,\"#fb9f3a\"],[0.8888888888888888,\"#fdca26\"],[1.0,\"#f0f921\"]],\"diverging\":[[0,\"#8e0152\"],[0.1,\"#c51b7d\"],[0.2,\"#de77ae\"],[0.3,\"#f1b6da\"],[0.4,\"#fde0ef\"],[0.5,\"#f7f7f7\"],[0.6,\"#e6f5d0\"],[0.7,\"#b8e186\"],[0.8,\"#7fbc41\"],[0.9,\"#4d9221\"],[1,\"#276419\"]]},\"xaxis\":{\"gridcolor\":\"white\",\"linecolor\":\"white\",\"ticks\":\"\",\"title\":{\"standoff\":15},\"zerolinecolor\":\"white\",\"automargin\":true,\"zerolinewidth\":2},\"yaxis\":{\"gridcolor\":\"white\",\"linecolor\":\"white\",\"ticks\":\"\",\"title\":{\"standoff\":15},\"zerolinecolor\":\"white\",\"automargin\":true,\"zerolinewidth\":2},\"scene\":{\"xaxis\":{\"backgroundcolor\":\"#E5ECF6\",\"gridcolor\":\"white\",\"linecolor\":\"white\",\"showbackground\":true,\"ticks\":\"\",\"zerolinecolor\":\"white\",\"gridwidth\":2},\"yaxis\":{\"backgroundcolor\":\"#E5ECF6\",\"gridcolor\":\"white\",\"linecolor\":\"white\",\"showbackground\":true,\"ticks\":\"\",\"zerolinecolor\":\"white\",\"gridwidth\":2},\"zaxis\":{\"backgroundcolor\":\"#E5ECF6\",\"gridcolor\":\"white\",\"linecolor\":\"white\",\"showbackground\":true,\"ticks\":\"\",\"zerolinecolor\":\"white\",\"gridwidth\":2}},\"shapedefaults\":{\"line\":{\"color\":\"#2a3f5f\"}},\"annotationdefaults\":{\"arrowcolor\":\"#2a3f5f\",\"arrowhead\":0,\"arrowwidth\":1},\"geo\":{\"bgcolor\":\"white\",\"landcolor\":\"#E5ECF6\",\"subunitcolor\":\"white\",\"showland\":true,\"showlakes\":true,\"lakecolor\":\"white\"},\"title\":{\"x\":0.05},\"mapbox\":{\"style\":\"light\"}}},\"height\":600,\"width\":600,\"title\":{\"text\":\"Q-Q plot mannwhitneyu\"}},                        {\"responsive\": true}                    ).then(function(){\n",
              "                            \n",
              "var gd = document.getElementById('4e2445c4-b87b-4907-b06b-eb1383318bf0');\n",
              "var x = new MutationObserver(function (mutations, observer) {{\n",
              "        var display = window.getComputedStyle(gd).display;\n",
              "        if (!display || display === 'none') {{\n",
              "            console.log([gd, 'removed!']);\n",
              "            Plotly.purge(gd);\n",
              "            observer.disconnect();\n",
              "        }}\n",
              "}});\n",
              "\n",
              "// Listen for the removal of the full notebook cells\n",
              "var notebookContainer = gd.closest('#notebook-container');\n",
              "if (notebookContainer) {{\n",
              "    x.observe(notebookContainer, {childList: true});\n",
              "}}\n",
              "\n",
              "// Listen for the clearing of the current output cell\n",
              "var outputEl = gd.closest('.output');\n",
              "if (outputEl) {{\n",
              "    x.observe(outputEl, {childList: true});\n",
              "}}\n",
              "\n",
              "                        })                };                            </script>        </div>\n",
              "</body>\n",
              "</html>"
            ]
          },
          "metadata": {}
        }
      ]
    },
    {
      "cell_type": "code",
      "source": [],
      "metadata": {
        "id": "Zo_gg-TvRxL6"
      },
      "execution_count": null,
      "outputs": []
    }
  ]
}